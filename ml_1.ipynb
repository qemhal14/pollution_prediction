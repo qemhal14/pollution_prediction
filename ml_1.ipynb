{
 "cells": [
  {
   "cell_type": "code",
   "execution_count": 43,
   "id": "30cd363c",
   "metadata": {},
   "outputs": [],
   "source": [
    "import numpy as np\n",
    "import pandas as pd"
   ]
  },
  {
   "cell_type": "code",
   "execution_count": 94,
   "id": "bba63563",
   "metadata": {},
   "outputs": [
    {
     "data": {
      "application/vnd.microsoft.datawrangler.viewer.v0+json": {
       "columns": [
        {
         "name": "index",
         "rawType": "int64",
         "type": "integer"
        },
        {
         "name": "id",
         "rawType": "int64",
         "type": "integer"
        },
        {
         "name": "latitude",
         "rawType": "float64",
         "type": "float"
        },
        {
         "name": "longitude",
         "rawType": "float64",
         "type": "float"
        },
        {
         "name": "day_of_year",
         "rawType": "int64",
         "type": "integer"
        },
        {
         "name": "day_of_week",
         "rawType": "int64",
         "type": "integer"
        },
        {
         "name": "hour",
         "rawType": "int64",
         "type": "integer"
        },
        {
         "name": "month",
         "rawType": "int64",
         "type": "integer"
        },
        {
         "name": "pollution_value",
         "rawType": "float64",
         "type": "float"
        }
       ],
       "ref": "9a8eb851-1c0b-4461-b2be-4c656e2fdfb6",
       "rows": [
        [
         "0",
         "0",
         "51.491",
         "-0.172",
         "301",
         "6",
         "3",
         "10",
         "14.5"
        ],
        [
         "1",
         "1",
         "39.386",
         "-121.158",
         "254",
         "3",
         "21",
         "9",
         "34.5"
        ],
        [
         "2",
         "2",
         "51.459",
         "0.596",
         "301",
         "6",
         "3",
         "10",
         "10.5"
        ],
        [
         "3",
         "3",
         "35.299",
         "-120.613",
         "145",
         "2",
         "14",
         "5",
         "15.5"
        ],
        [
         "4",
         "4",
         "29.927",
         "120.527",
         "221",
         "0",
         "14",
         "8",
         "54.5"
        ]
       ],
       "shape": {
        "columns": 8,
        "rows": 5
       }
      },
      "text/html": [
       "<div>\n",
       "<style scoped>\n",
       "    .dataframe tbody tr th:only-of-type {\n",
       "        vertical-align: middle;\n",
       "    }\n",
       "\n",
       "    .dataframe tbody tr th {\n",
       "        vertical-align: top;\n",
       "    }\n",
       "\n",
       "    .dataframe thead th {\n",
       "        text-align: right;\n",
       "    }\n",
       "</style>\n",
       "<table border=\"1\" class=\"dataframe\">\n",
       "  <thead>\n",
       "    <tr style=\"text-align: right;\">\n",
       "      <th></th>\n",
       "      <th>id</th>\n",
       "      <th>latitude</th>\n",
       "      <th>longitude</th>\n",
       "      <th>day_of_year</th>\n",
       "      <th>day_of_week</th>\n",
       "      <th>hour</th>\n",
       "      <th>month</th>\n",
       "      <th>pollution_value</th>\n",
       "    </tr>\n",
       "  </thead>\n",
       "  <tbody>\n",
       "    <tr>\n",
       "      <th>0</th>\n",
       "      <td>0</td>\n",
       "      <td>51.491</td>\n",
       "      <td>-0.172</td>\n",
       "      <td>301</td>\n",
       "      <td>6</td>\n",
       "      <td>3</td>\n",
       "      <td>10</td>\n",
       "      <td>14.5</td>\n",
       "    </tr>\n",
       "    <tr>\n",
       "      <th>1</th>\n",
       "      <td>1</td>\n",
       "      <td>39.386</td>\n",
       "      <td>-121.158</td>\n",
       "      <td>254</td>\n",
       "      <td>3</td>\n",
       "      <td>21</td>\n",
       "      <td>9</td>\n",
       "      <td>34.5</td>\n",
       "    </tr>\n",
       "    <tr>\n",
       "      <th>2</th>\n",
       "      <td>2</td>\n",
       "      <td>51.459</td>\n",
       "      <td>0.596</td>\n",
       "      <td>301</td>\n",
       "      <td>6</td>\n",
       "      <td>3</td>\n",
       "      <td>10</td>\n",
       "      <td>10.5</td>\n",
       "    </tr>\n",
       "    <tr>\n",
       "      <th>3</th>\n",
       "      <td>3</td>\n",
       "      <td>35.299</td>\n",
       "      <td>-120.613</td>\n",
       "      <td>145</td>\n",
       "      <td>2</td>\n",
       "      <td>14</td>\n",
       "      <td>5</td>\n",
       "      <td>15.5</td>\n",
       "    </tr>\n",
       "    <tr>\n",
       "      <th>4</th>\n",
       "      <td>4</td>\n",
       "      <td>29.927</td>\n",
       "      <td>120.527</td>\n",
       "      <td>221</td>\n",
       "      <td>0</td>\n",
       "      <td>14</td>\n",
       "      <td>8</td>\n",
       "      <td>54.5</td>\n",
       "    </tr>\n",
       "  </tbody>\n",
       "</table>\n",
       "</div>"
      ],
      "text/plain": [
       "   id  latitude  longitude  day_of_year  day_of_week  hour  month  \\\n",
       "0   0    51.491     -0.172          301            6     3     10   \n",
       "1   1    39.386   -121.158          254            3    21      9   \n",
       "2   2    51.459      0.596          301            6     3     10   \n",
       "3   3    35.299   -120.613          145            2    14      5   \n",
       "4   4    29.927    120.527          221            0    14      8   \n",
       "\n",
       "   pollution_value  \n",
       "0             14.5  \n",
       "1             34.5  \n",
       "2             10.5  \n",
       "3             15.5  \n",
       "4             54.5  "
      ]
     },
     "execution_count": 94,
     "metadata": {},
     "output_type": "execute_result"
    }
   ],
   "source": [
    "df = pd.read_csv(\"./data/train.csv\")\n",
    "df.head()"
   ]
  },
  {
   "cell_type": "code",
   "execution_count": 95,
   "id": "c1ecdee9",
   "metadata": {},
   "outputs": [
    {
     "name": "stdout",
     "output_type": "stream",
     "text": [
      "<class 'pandas.core.frame.DataFrame'>\n",
      "RangeIndex: 7649 entries, 0 to 7648\n",
      "Data columns (total 8 columns):\n",
      " #   Column           Non-Null Count  Dtype  \n",
      "---  ------           --------------  -----  \n",
      " 0   id               7649 non-null   int64  \n",
      " 1   latitude         7636 non-null   float64\n",
      " 2   longitude        7636 non-null   float64\n",
      " 3   day_of_year      7649 non-null   int64  \n",
      " 4   day_of_week      7649 non-null   int64  \n",
      " 5   hour             7649 non-null   int64  \n",
      " 6   month            7649 non-null   int64  \n",
      " 7   pollution_value  7649 non-null   float64\n",
      "dtypes: float64(3), int64(5)\n",
      "memory usage: 478.2 KB\n"
     ]
    }
   ],
   "source": [
    "df.info()"
   ]
  },
  {
   "cell_type": "code",
   "execution_count": 96,
   "id": "ec9c5124",
   "metadata": {},
   "outputs": [
    {
     "data": {
      "text/plain": [
       "Index(['id', 'latitude', 'longitude', 'day_of_year', 'day_of_week', 'hour',\n",
       "       'month', 'pollution_value'],\n",
       "      dtype='object')"
      ]
     },
     "execution_count": 96,
     "metadata": {},
     "output_type": "execute_result"
    }
   ],
   "source": [
    "df.columns"
   ]
  },
  {
   "cell_type": "code",
   "execution_count": 97,
   "id": "4aadad55",
   "metadata": {},
   "outputs": [
    {
     "data": {
      "application/vnd.microsoft.datawrangler.viewer.v0+json": {
       "columns": [
        {
         "name": "index",
         "rawType": "object",
         "type": "string"
        },
        {
         "name": "0",
         "rawType": "int64",
         "type": "integer"
        }
       ],
       "ref": "8fc4a597-6e15-4491-9271-be2b43174846",
       "rows": [
        [
         "id",
         "0"
        ],
        [
         "latitude",
         "13"
        ],
        [
         "longitude",
         "13"
        ],
        [
         "day_of_year",
         "0"
        ],
        [
         "day_of_week",
         "0"
        ],
        [
         "hour",
         "0"
        ],
        [
         "month",
         "0"
        ],
        [
         "pollution_value",
         "0"
        ]
       ],
       "shape": {
        "columns": 1,
        "rows": 8
       }
      },
      "text/plain": [
       "id                  0\n",
       "latitude           13\n",
       "longitude          13\n",
       "day_of_year         0\n",
       "day_of_week         0\n",
       "hour                0\n",
       "month               0\n",
       "pollution_value     0\n",
       "dtype: int64"
      ]
     },
     "execution_count": 97,
     "metadata": {},
     "output_type": "execute_result"
    }
   ],
   "source": [
    "df.isna().sum()"
   ]
  },
  {
   "cell_type": "code",
   "execution_count": 48,
   "id": "3e233cd6",
   "metadata": {},
   "outputs": [
    {
     "data": {
      "application/vnd.microsoft.datawrangler.viewer.v0+json": {
       "columns": [
        {
         "name": "index",
         "rawType": "int64",
         "type": "integer"
        },
        {
         "name": "id",
         "rawType": "int64",
         "type": "integer"
        },
        {
         "name": "latitude",
         "rawType": "float64",
         "type": "float"
        },
        {
         "name": "longitude",
         "rawType": "float64",
         "type": "float"
        },
        {
         "name": "day_of_year",
         "rawType": "int64",
         "type": "integer"
        },
        {
         "name": "day_of_week",
         "rawType": "int64",
         "type": "integer"
        },
        {
         "name": "hour",
         "rawType": "int64",
         "type": "integer"
        },
        {
         "name": "month",
         "rawType": "int64",
         "type": "integer"
        },
        {
         "name": "pollution_value",
         "rawType": "float64",
         "type": "float"
        }
       ],
       "ref": "1d855b23-29f0-467c-a34e-402325cb2461",
       "rows": [
        [
         "1524",
         "1524",
         null,
         null,
         "228",
         "0",
         "23",
         "8",
         "36.1"
        ],
        [
         "1810",
         "1810",
         null,
         null,
         "241",
         "0",
         "15",
         "8",
         "4.5"
        ],
        [
         "2599",
         "2599",
         null,
         null,
         "87",
         "0",
         "8",
         "3",
         "7.0"
        ],
        [
         "3183",
         "3183",
         null,
         null,
         "242",
         "1",
         "3",
         "8",
         "4.5"
        ],
        [
         "3470",
         "3470",
         null,
         null,
         "243",
         "2",
         "9",
         "8",
         "4.5"
        ],
        [
         "3657",
         "3657",
         null,
         null,
         "243",
         "2",
         "7",
         "8",
         "4.5"
        ],
        [
         "3748",
         "3748",
         null,
         null,
         "243",
         "2",
         "6",
         "8",
         "4.5"
        ],
        [
         "4105",
         "4105",
         null,
         null,
         "242",
         "1",
         "4",
         "8",
         "4.5"
        ],
        [
         "5175",
         "5175",
         null,
         null,
         "228",
         "0",
         "22",
         "8",
         "38.0"
        ],
        [
         "5888",
         "5888",
         null,
         null,
         "151",
         "2",
         "2",
         "5",
         "10.1"
        ],
        [
         "6751",
         "6751",
         null,
         null,
         "214",
         "1",
         "13",
         "8",
         "10.5"
        ],
        [
         "6979",
         "6979",
         null,
         null,
         "242",
         "1",
         "0",
         "8",
         "4.5"
        ],
        [
         "7161",
         "7161",
         null,
         null,
         "242",
         "1",
         "2",
         "8",
         "4.5"
        ]
       ],
       "shape": {
        "columns": 8,
        "rows": 13
       }
      },
      "text/html": [
       "<div>\n",
       "<style scoped>\n",
       "    .dataframe tbody tr th:only-of-type {\n",
       "        vertical-align: middle;\n",
       "    }\n",
       "\n",
       "    .dataframe tbody tr th {\n",
       "        vertical-align: top;\n",
       "    }\n",
       "\n",
       "    .dataframe thead th {\n",
       "        text-align: right;\n",
       "    }\n",
       "</style>\n",
       "<table border=\"1\" class=\"dataframe\">\n",
       "  <thead>\n",
       "    <tr style=\"text-align: right;\">\n",
       "      <th></th>\n",
       "      <th>id</th>\n",
       "      <th>latitude</th>\n",
       "      <th>longitude</th>\n",
       "      <th>day_of_year</th>\n",
       "      <th>day_of_week</th>\n",
       "      <th>hour</th>\n",
       "      <th>month</th>\n",
       "      <th>pollution_value</th>\n",
       "    </tr>\n",
       "  </thead>\n",
       "  <tbody>\n",
       "    <tr>\n",
       "      <th>1524</th>\n",
       "      <td>1524</td>\n",
       "      <td>NaN</td>\n",
       "      <td>NaN</td>\n",
       "      <td>228</td>\n",
       "      <td>0</td>\n",
       "      <td>23</td>\n",
       "      <td>8</td>\n",
       "      <td>36.1</td>\n",
       "    </tr>\n",
       "    <tr>\n",
       "      <th>1810</th>\n",
       "      <td>1810</td>\n",
       "      <td>NaN</td>\n",
       "      <td>NaN</td>\n",
       "      <td>241</td>\n",
       "      <td>0</td>\n",
       "      <td>15</td>\n",
       "      <td>8</td>\n",
       "      <td>4.5</td>\n",
       "    </tr>\n",
       "    <tr>\n",
       "      <th>2599</th>\n",
       "      <td>2599</td>\n",
       "      <td>NaN</td>\n",
       "      <td>NaN</td>\n",
       "      <td>87</td>\n",
       "      <td>0</td>\n",
       "      <td>8</td>\n",
       "      <td>3</td>\n",
       "      <td>7.0</td>\n",
       "    </tr>\n",
       "    <tr>\n",
       "      <th>3183</th>\n",
       "      <td>3183</td>\n",
       "      <td>NaN</td>\n",
       "      <td>NaN</td>\n",
       "      <td>242</td>\n",
       "      <td>1</td>\n",
       "      <td>3</td>\n",
       "      <td>8</td>\n",
       "      <td>4.5</td>\n",
       "    </tr>\n",
       "    <tr>\n",
       "      <th>3470</th>\n",
       "      <td>3470</td>\n",
       "      <td>NaN</td>\n",
       "      <td>NaN</td>\n",
       "      <td>243</td>\n",
       "      <td>2</td>\n",
       "      <td>9</td>\n",
       "      <td>8</td>\n",
       "      <td>4.5</td>\n",
       "    </tr>\n",
       "    <tr>\n",
       "      <th>3657</th>\n",
       "      <td>3657</td>\n",
       "      <td>NaN</td>\n",
       "      <td>NaN</td>\n",
       "      <td>243</td>\n",
       "      <td>2</td>\n",
       "      <td>7</td>\n",
       "      <td>8</td>\n",
       "      <td>4.5</td>\n",
       "    </tr>\n",
       "    <tr>\n",
       "      <th>3748</th>\n",
       "      <td>3748</td>\n",
       "      <td>NaN</td>\n",
       "      <td>NaN</td>\n",
       "      <td>243</td>\n",
       "      <td>2</td>\n",
       "      <td>6</td>\n",
       "      <td>8</td>\n",
       "      <td>4.5</td>\n",
       "    </tr>\n",
       "    <tr>\n",
       "      <th>4105</th>\n",
       "      <td>4105</td>\n",
       "      <td>NaN</td>\n",
       "      <td>NaN</td>\n",
       "      <td>242</td>\n",
       "      <td>1</td>\n",
       "      <td>4</td>\n",
       "      <td>8</td>\n",
       "      <td>4.5</td>\n",
       "    </tr>\n",
       "    <tr>\n",
       "      <th>5175</th>\n",
       "      <td>5175</td>\n",
       "      <td>NaN</td>\n",
       "      <td>NaN</td>\n",
       "      <td>228</td>\n",
       "      <td>0</td>\n",
       "      <td>22</td>\n",
       "      <td>8</td>\n",
       "      <td>38.0</td>\n",
       "    </tr>\n",
       "    <tr>\n",
       "      <th>5888</th>\n",
       "      <td>5888</td>\n",
       "      <td>NaN</td>\n",
       "      <td>NaN</td>\n",
       "      <td>151</td>\n",
       "      <td>2</td>\n",
       "      <td>2</td>\n",
       "      <td>5</td>\n",
       "      <td>10.1</td>\n",
       "    </tr>\n",
       "    <tr>\n",
       "      <th>6751</th>\n",
       "      <td>6751</td>\n",
       "      <td>NaN</td>\n",
       "      <td>NaN</td>\n",
       "      <td>214</td>\n",
       "      <td>1</td>\n",
       "      <td>13</td>\n",
       "      <td>8</td>\n",
       "      <td>10.5</td>\n",
       "    </tr>\n",
       "    <tr>\n",
       "      <th>6979</th>\n",
       "      <td>6979</td>\n",
       "      <td>NaN</td>\n",
       "      <td>NaN</td>\n",
       "      <td>242</td>\n",
       "      <td>1</td>\n",
       "      <td>0</td>\n",
       "      <td>8</td>\n",
       "      <td>4.5</td>\n",
       "    </tr>\n",
       "    <tr>\n",
       "      <th>7161</th>\n",
       "      <td>7161</td>\n",
       "      <td>NaN</td>\n",
       "      <td>NaN</td>\n",
       "      <td>242</td>\n",
       "      <td>1</td>\n",
       "      <td>2</td>\n",
       "      <td>8</td>\n",
       "      <td>4.5</td>\n",
       "    </tr>\n",
       "  </tbody>\n",
       "</table>\n",
       "</div>"
      ],
      "text/plain": [
       "        id  latitude  longitude  day_of_year  day_of_week  hour  month  \\\n",
       "1524  1524       NaN        NaN          228            0    23      8   \n",
       "1810  1810       NaN        NaN          241            0    15      8   \n",
       "2599  2599       NaN        NaN           87            0     8      3   \n",
       "3183  3183       NaN        NaN          242            1     3      8   \n",
       "3470  3470       NaN        NaN          243            2     9      8   \n",
       "3657  3657       NaN        NaN          243            2     7      8   \n",
       "3748  3748       NaN        NaN          243            2     6      8   \n",
       "4105  4105       NaN        NaN          242            1     4      8   \n",
       "5175  5175       NaN        NaN          228            0    22      8   \n",
       "5888  5888       NaN        NaN          151            2     2      5   \n",
       "6751  6751       NaN        NaN          214            1    13      8   \n",
       "6979  6979       NaN        NaN          242            1     0      8   \n",
       "7161  7161       NaN        NaN          242            1     2      8   \n",
       "\n",
       "      pollution_value  \n",
       "1524             36.1  \n",
       "1810              4.5  \n",
       "2599              7.0  \n",
       "3183              4.5  \n",
       "3470              4.5  \n",
       "3657              4.5  \n",
       "3748              4.5  \n",
       "4105              4.5  \n",
       "5175             38.0  \n",
       "5888             10.1  \n",
       "6751             10.5  \n",
       "6979              4.5  \n",
       "7161              4.5  "
      ]
     },
     "execution_count": 48,
     "metadata": {},
     "output_type": "execute_result"
    }
   ],
   "source": [
    "df_missing = df[df.isna().any(axis=1)]\n",
    "df_missing"
   ]
  },
  {
   "cell_type": "code",
   "execution_count": null,
   "id": "4b4aaeba",
   "metadata": {},
   "outputs": [],
   "source": [
    "# # Data Cleaning | Filling missing values\n",
    "# # Fill missing latitude and longitude for index 1524 and 5175 with values from index 5756\n",
    "# df.loc[1524, ['latitude', 'longitude']] = df.loc[5756, ['latitude', 'longitude']]\n",
    "# df.loc[5175, ['latitude', 'longitude']] = df.loc[5756, ['latitude', 'longitude']]\n",
    "\n",
    "# # Fill missing latitude and longitude for index 3183, 4105, 6979 and 7161 with values from index 310\n",
    "# df.loc[3183, ['latitude', 'longitude']] = df.loc[310, ['latitude', 'longitude']]\n",
    "# df.loc[4105, ['latitude', 'longitude']] = df.loc[310, ['latitude', 'longitude']]\n",
    "# df.loc[6979, ['latitude', 'longitude']] = df.loc[310, ['latitude', 'longitude']]\n",
    "# df.loc[7161, ['latitude', 'longitude']] = df.loc[310, ['latitude', 'longitude']]\n",
    "\n",
    "# # Fill missing latitude and longitude for index 3470, 3657, and 3748 with values from index 230\n",
    "# df.loc[3470, ['latitude', 'longitude']] = df.loc[230, ['latitude', 'longitude']]\n",
    "# df.loc[3657, ['latitude', 'longitude']] = df.loc[230, ['latitude', 'longitude']]\n",
    "# df.loc[3748, ['latitude', 'longitude']] = df.loc[230, ['latitude', 'longitude']]\n",
    "\n",
    "# # Fill missing latitude and longitude for index 1810 with values from index 5606\n",
    "# df.loc[1810, ['latitude', 'longitude']] = df.loc[5606, ['latitude', 'longitude']]\n",
    "\n",
    "# # Fill missing latitude and longitude for index 2599 with values from index 4064\n",
    "# df.loc[2599, ['latitude', 'longitude']] = df.loc[4064, ['latitude', 'longitude']]\n",
    "\n",
    "# # Fill missing latitude and longitude for index 5888 with values from index 5863\n",
    "# df.loc[5888, ['latitude', 'longitude']] = df.loc[5863, ['latitude', 'longitude']]\n",
    "\n",
    "# # Fill missing latitude and longitude for index 6751 with values from index 4345\n",
    "# df.loc[6751, ['latitude', 'longitude']] = df.loc[4345, ['latitude', 'longitude']]"
   ]
  },
  {
   "cell_type": "code",
   "execution_count": 50,
   "id": "b39dec9a",
   "metadata": {},
   "outputs": [
    {
     "data": {
      "application/vnd.microsoft.datawrangler.viewer.v0+json": {
       "columns": [
        {
         "name": "index",
         "rawType": "object",
         "type": "string"
        },
        {
         "name": "0",
         "rawType": "int64",
         "type": "integer"
        }
       ],
       "ref": "2723d300-ed09-47f9-92b0-fb1542b5134f",
       "rows": [
        [
         "id",
         "0"
        ],
        [
         "latitude",
         "0"
        ],
        [
         "longitude",
         "0"
        ],
        [
         "day_of_year",
         "0"
        ],
        [
         "day_of_week",
         "0"
        ],
        [
         "hour",
         "0"
        ],
        [
         "month",
         "0"
        ],
        [
         "pollution_value",
         "0"
        ]
       ],
       "shape": {
        "columns": 1,
        "rows": 8
       }
      },
      "text/plain": [
       "id                 0\n",
       "latitude           0\n",
       "longitude          0\n",
       "day_of_year        0\n",
       "day_of_week        0\n",
       "hour               0\n",
       "month              0\n",
       "pollution_value    0\n",
       "dtype: int64"
      ]
     },
     "execution_count": 50,
     "metadata": {},
     "output_type": "execute_result"
    }
   ],
   "source": [
    "df.isna().sum()"
   ]
  },
  {
   "cell_type": "code",
   "execution_count": 98,
   "id": "6f19d225",
   "metadata": {},
   "outputs": [],
   "source": [
    "df_clean = df.copy()"
   ]
  },
  {
   "cell_type": "code",
   "execution_count": 99,
   "id": "c02aa666",
   "metadata": {},
   "outputs": [],
   "source": [
    "lat_median = df[\"latitude\"].median()\n",
    "long_median = df[\"longitude\"].median()\n",
    "\n",
    "df_clean[\"latitude\"] = df[\"latitude\"].fillna(lat_median)\n",
    "df_clean[\"longitude\"] = df[\"longitude\"].fillna(long_median)"
   ]
  },
  {
   "cell_type": "code",
   "execution_count": 100,
   "id": "8a0d4bf3",
   "metadata": {},
   "outputs": [],
   "source": [
    "# # Removing two data points with extreme values (based on error analysis)\n",
    "# df_clean = df_clean.drop([511, 1956])"
   ]
  },
  {
   "cell_type": "markdown",
   "id": "018fcaa3",
   "metadata": {},
   "source": [
    "# Machine Learning Modeling"
   ]
  },
  {
   "cell_type": "code",
   "execution_count": 101,
   "id": "0040607f",
   "metadata": {},
   "outputs": [],
   "source": [
    "from geopy.geocoders import Nominatim\n",
    "import time\n",
    "from tqdm import tqdm\n",
    "import geopandas as gpd\n",
    "\n",
    "from sklearn.preprocessing import StandardScaler, RobustScaler\n",
    "from sklearn.compose import ColumnTransformer\n",
    "from sklearn.model_selection import train_test_split, cross_val_score, KFold, GridSearchCV\n",
    "from sklearn.utils import shuffle\n",
    "from imblearn.pipeline import Pipeline\n",
    "from sklearn.impute import KNNImputer\n",
    "from skopt import BayesSearchCV\n",
    "from skopt.space import Real, Integer, Categorical\n",
    "from sklearn.preprocessing import PolynomialFeatures\n",
    "from sklearn.preprocessing import OneHotEncoder\n",
    "\n",
    "from xgboost import XGBRegressor\n",
    "from sklearn.ensemble import RandomForestRegressor, GradientBoostingRegressor\n",
    "from sklearn.linear_model import LinearRegression, Ridge, Lasso\n",
    "from sklearn.tree import DecisionTreeRegressor\n",
    "\n",
    "from sklearn.metrics import root_mean_squared_error\n",
    "\n",
    "import shap\n",
    "\n",
    "RANDOM_STATE = 14"
   ]
  },
  {
   "cell_type": "code",
   "execution_count": 102,
   "id": "206a753c",
   "metadata": {},
   "outputs": [],
   "source": [
    "# # Filling missing values with knnimputer\n",
    "# train_1 = shuffle(df_clean_1, random_state=RANDOM_STATE)"
   ]
  },
  {
   "cell_type": "markdown",
   "id": "fade959f",
   "metadata": {},
   "source": [
    "# Feature Engineering"
   ]
  },
  {
   "cell_type": "code",
   "execution_count": 103,
   "id": "eca5ed1f",
   "metadata": {},
   "outputs": [],
   "source": [
    "# Feature Engineering for Air Pollution Prediction (Feature Enigineering 1)\n",
    "\n",
    "# 1. Cyclical encoding for time features\n",
    "df_clean['hour_sin'] = np.sin(2 * np.pi * df_clean['hour'] / 24)\n",
    "df_clean['hour_cos'] = np.cos(2 * np.pi * df_clean['hour'] / 24)\n",
    "df_clean['month_sin'] = np.sin(2 * np.pi * df_clean['month'] / 12)\n",
    "df_clean['month_cos'] = np.cos(2 * np.pi * df_clean['month'] / 12)\n",
    "df_clean['day_of_week_sin'] = np.sin(2 * np.pi * df_clean['day_of_week'] / 7)\n",
    "df_clean['day_of_week_cos'] = np.cos(2 * np.pi * df_clean['day_of_week'] / 7)\n",
    "\n",
    "# 2. Interaction features\n",
    "df_clean['lat_long'] = df_clean['latitude'] * df_clean['longitude']\n",
    "\n",
    "# 3. Distance from a reference point (e.g., city center)\n",
    "# Example: Reference point (mean latitude/longitude)\n",
    "ref_lat = df_clean['latitude'].mean()\n",
    "ref_long = df_clean['longitude'].mean()\n",
    "df_clean['dist_center'] = np.sqrt((df_clean['latitude'] - ref_lat)**2 + (df_clean['longitude'] - ref_long)**2)\n",
    "\n",
    "# 4. Remove original cyclical columns if desired\n",
    "#df_clean = df_clean.drop(['hour', 'month', 'day_of_week'], axis=1)\n"
   ]
  },
  {
   "cell_type": "code",
   "execution_count": 104,
   "id": "74829b0b",
   "metadata": {},
   "outputs": [],
   "source": [
    "# # 1. Add squared and interaction terms\n",
    "# df_clean['latitude_squared'] = df_clean['latitude'] ** 2\n",
    "# df_clean['longitude_squared'] = df_clean['longitude'] ** 2\n",
    "# df_clean['lat_long_interaction'] = df_clean['latitude'] * df_clean['longitude']\n",
    "\n",
    "# # 2. Add rolling/statistical features (if you have time series data)\n",
    "# # Example: rolling mean pollution value by location (requires pollution_value column)\n",
    "# # df_clean['rolling_mean_pollution'] = df_clean.groupby(['latitude', 'longitude'])['pollution_value'].transform(lambda x: x.rolling(window=3, min_periods=1).mean())\n",
    "\n",
    "# # 3. Add categorical bins for latitude/longitude\n",
    "# df_clean['lat_bin'] = pd.cut(df_clean['latitude'], bins=5, labels=False)\n",
    "# df_clean['long_bin'] = pd.cut(df_clean['longitude'], bins=5, labels=False)"
   ]
  },
  {
   "cell_type": "code",
   "execution_count": 105,
   "id": "77b7878a",
   "metadata": {},
   "outputs": [],
   "source": [
    "# # Create a 'season' column as a number based on the month\n",
    "# def get_season_num(month):\n",
    "#     if month in [12, 1, 2]:\n",
    "#         return 0  # Winter\n",
    "#     elif month in [3, 4, 5]:\n",
    "#         return 1  # Spring\n",
    "#     elif month in [6, 7, 8]:\n",
    "#         return 2  # Summer\n",
    "#     else:\n",
    "#         return 3  # Autumn\n",
    "\n",
    "# df_clean['season'] = df_clean['month'].apply(get_season_num)"
   ]
  },
  {
   "cell_type": "code",
   "execution_count": 106,
   "id": "4f22cdeb",
   "metadata": {},
   "outputs": [],
   "source": [
    "# Load world country polygons\n",
    "world = gpd.read_file(\"./data/110m_cultural/ne_110m_admin_0_countries.shp\")\n",
    "\n",
    "# Convert your DataFrame to GeoDataFrame\n",
    "gdf = gpd.GeoDataFrame(\n",
    "    df_clean,\n",
    "    geometry=gpd.points_from_xy(df_clean.longitude, df_clean.latitude),\n",
    "    crs=\"EPSG:4326\"\n",
    ")\n",
    "\n",
    "# Spatial join: assign country to each point\n",
    "gdf_with_country = gpd.sjoin(gdf, world[['geometry', 'NAME']], how='left', predicate='within')\n",
    "df_clean['country'] = gdf_with_country['NAME']"
   ]
  },
  {
   "cell_type": "code",
   "execution_count": 107,
   "id": "61011a8b",
   "metadata": {},
   "outputs": [
    {
     "data": {
      "application/vnd.microsoft.datawrangler.viewer.v0+json": {
       "columns": [
        {
         "name": "index",
         "rawType": "int64",
         "type": "integer"
        },
        {
         "name": "id",
         "rawType": "int64",
         "type": "integer"
        },
        {
         "name": "latitude",
         "rawType": "float64",
         "type": "float"
        },
        {
         "name": "longitude",
         "rawType": "float64",
         "type": "float"
        },
        {
         "name": "day_of_year",
         "rawType": "int64",
         "type": "integer"
        },
        {
         "name": "day_of_week",
         "rawType": "int64",
         "type": "integer"
        },
        {
         "name": "hour",
         "rawType": "int64",
         "type": "integer"
        },
        {
         "name": "month",
         "rawType": "int64",
         "type": "integer"
        },
        {
         "name": "pollution_value",
         "rawType": "float64",
         "type": "float"
        },
        {
         "name": "hour_sin",
         "rawType": "float64",
         "type": "float"
        },
        {
         "name": "hour_cos",
         "rawType": "float64",
         "type": "float"
        },
        {
         "name": "month_sin",
         "rawType": "float64",
         "type": "float"
        },
        {
         "name": "month_cos",
         "rawType": "float64",
         "type": "float"
        },
        {
         "name": "day_of_week_sin",
         "rawType": "float64",
         "type": "float"
        },
        {
         "name": "day_of_week_cos",
         "rawType": "float64",
         "type": "float"
        },
        {
         "name": "lat_long",
         "rawType": "float64",
         "type": "float"
        },
        {
         "name": "dist_center",
         "rawType": "float64",
         "type": "float"
        },
        {
         "name": "country",
         "rawType": "object",
         "type": "string"
        }
       ],
       "ref": "9f4cdcfd-7d74-461d-99cc-ce53b8a45b59",
       "rows": [
        [
         "0",
         "0",
         "51.491",
         "-0.172",
         "301",
         "6",
         "3",
         "10",
         "14.5",
         "0.7071067811865476",
         "0.7071067811865476",
         "-0.8660254037844386",
         "0.5000000000000001",
         "-0.7818314824680299",
         "0.6234898018587334",
         "-8.856451999999999",
         "37.82572717275855",
         "United Kingdom"
        ],
        [
         "1",
         "1",
         "39.386",
         "-121.158",
         "254",
         "3",
         "21",
         "9",
         "34.5",
         "-0.7071067811865477",
         "0.7071067811865474",
         "-1.0",
         "-1.8369701987210297e-16",
         "0.43388373911755823",
         "-0.900968867902419",
         "-4771.928988000001",
         "153.5181515981001",
         "United States of America"
        ],
        [
         "2",
         "2",
         "51.459",
         "0.596",
         "301",
         "6",
         "3",
         "10",
         "10.5",
         "0.7071067811865476",
         "0.7071067811865476",
         "-0.8660254037844386",
         "0.5000000000000001",
         "-0.7818314824680299",
         "0.6234898018587334",
         "30.669564",
         "37.154191444050156",
         "United Kingdom"
        ],
        [
         "3",
         "3",
         "35.299",
         "-120.613",
         "145",
         "2",
         "14",
         "5",
         "15.5",
         "-0.4999999999999997",
         "-0.8660254037844388",
         "0.49999999999999994",
         "-0.8660254037844387",
         "0.9749279121818236",
         "-0.22252093395631434",
         "-4257.518287",
         "152.82796699117864",
         "United States of America"
        ],
        [
         "4",
         "4",
         "29.927",
         "120.527",
         "221",
         "0",
         "14",
         "8",
         "54.5",
         "-0.4999999999999997",
         "-0.8660254037844388",
         "-0.8660254037844385",
         "-0.5000000000000004",
         "0.0",
         "1.0",
         "3607.011529",
         "88.37186367212433",
         "China"
        ]
       ],
       "shape": {
        "columns": 17,
        "rows": 5
       }
      },
      "text/html": [
       "<div>\n",
       "<style scoped>\n",
       "    .dataframe tbody tr th:only-of-type {\n",
       "        vertical-align: middle;\n",
       "    }\n",
       "\n",
       "    .dataframe tbody tr th {\n",
       "        vertical-align: top;\n",
       "    }\n",
       "\n",
       "    .dataframe thead th {\n",
       "        text-align: right;\n",
       "    }\n",
       "</style>\n",
       "<table border=\"1\" class=\"dataframe\">\n",
       "  <thead>\n",
       "    <tr style=\"text-align: right;\">\n",
       "      <th></th>\n",
       "      <th>id</th>\n",
       "      <th>latitude</th>\n",
       "      <th>longitude</th>\n",
       "      <th>day_of_year</th>\n",
       "      <th>day_of_week</th>\n",
       "      <th>hour</th>\n",
       "      <th>month</th>\n",
       "      <th>pollution_value</th>\n",
       "      <th>hour_sin</th>\n",
       "      <th>hour_cos</th>\n",
       "      <th>month_sin</th>\n",
       "      <th>month_cos</th>\n",
       "      <th>day_of_week_sin</th>\n",
       "      <th>day_of_week_cos</th>\n",
       "      <th>lat_long</th>\n",
       "      <th>dist_center</th>\n",
       "      <th>country</th>\n",
       "    </tr>\n",
       "  </thead>\n",
       "  <tbody>\n",
       "    <tr>\n",
       "      <th>0</th>\n",
       "      <td>0</td>\n",
       "      <td>51.491</td>\n",
       "      <td>-0.172</td>\n",
       "      <td>301</td>\n",
       "      <td>6</td>\n",
       "      <td>3</td>\n",
       "      <td>10</td>\n",
       "      <td>14.5</td>\n",
       "      <td>0.707107</td>\n",
       "      <td>0.707107</td>\n",
       "      <td>-0.866025</td>\n",
       "      <td>5.000000e-01</td>\n",
       "      <td>-0.781831</td>\n",
       "      <td>0.623490</td>\n",
       "      <td>-8.856452</td>\n",
       "      <td>37.825727</td>\n",
       "      <td>United Kingdom</td>\n",
       "    </tr>\n",
       "    <tr>\n",
       "      <th>1</th>\n",
       "      <td>1</td>\n",
       "      <td>39.386</td>\n",
       "      <td>-121.158</td>\n",
       "      <td>254</td>\n",
       "      <td>3</td>\n",
       "      <td>21</td>\n",
       "      <td>9</td>\n",
       "      <td>34.5</td>\n",
       "      <td>-0.707107</td>\n",
       "      <td>0.707107</td>\n",
       "      <td>-1.000000</td>\n",
       "      <td>-1.836970e-16</td>\n",
       "      <td>0.433884</td>\n",
       "      <td>-0.900969</td>\n",
       "      <td>-4771.928988</td>\n",
       "      <td>153.518152</td>\n",
       "      <td>United States of America</td>\n",
       "    </tr>\n",
       "    <tr>\n",
       "      <th>2</th>\n",
       "      <td>2</td>\n",
       "      <td>51.459</td>\n",
       "      <td>0.596</td>\n",
       "      <td>301</td>\n",
       "      <td>6</td>\n",
       "      <td>3</td>\n",
       "      <td>10</td>\n",
       "      <td>10.5</td>\n",
       "      <td>0.707107</td>\n",
       "      <td>0.707107</td>\n",
       "      <td>-0.866025</td>\n",
       "      <td>5.000000e-01</td>\n",
       "      <td>-0.781831</td>\n",
       "      <td>0.623490</td>\n",
       "      <td>30.669564</td>\n",
       "      <td>37.154191</td>\n",
       "      <td>United Kingdom</td>\n",
       "    </tr>\n",
       "    <tr>\n",
       "      <th>3</th>\n",
       "      <td>3</td>\n",
       "      <td>35.299</td>\n",
       "      <td>-120.613</td>\n",
       "      <td>145</td>\n",
       "      <td>2</td>\n",
       "      <td>14</td>\n",
       "      <td>5</td>\n",
       "      <td>15.5</td>\n",
       "      <td>-0.500000</td>\n",
       "      <td>-0.866025</td>\n",
       "      <td>0.500000</td>\n",
       "      <td>-8.660254e-01</td>\n",
       "      <td>0.974928</td>\n",
       "      <td>-0.222521</td>\n",
       "      <td>-4257.518287</td>\n",
       "      <td>152.827967</td>\n",
       "      <td>United States of America</td>\n",
       "    </tr>\n",
       "    <tr>\n",
       "      <th>4</th>\n",
       "      <td>4</td>\n",
       "      <td>29.927</td>\n",
       "      <td>120.527</td>\n",
       "      <td>221</td>\n",
       "      <td>0</td>\n",
       "      <td>14</td>\n",
       "      <td>8</td>\n",
       "      <td>54.5</td>\n",
       "      <td>-0.500000</td>\n",
       "      <td>-0.866025</td>\n",
       "      <td>-0.866025</td>\n",
       "      <td>-5.000000e-01</td>\n",
       "      <td>0.000000</td>\n",
       "      <td>1.000000</td>\n",
       "      <td>3607.011529</td>\n",
       "      <td>88.371864</td>\n",
       "      <td>China</td>\n",
       "    </tr>\n",
       "  </tbody>\n",
       "</table>\n",
       "</div>"
      ],
      "text/plain": [
       "   id  latitude  longitude  day_of_year  day_of_week  hour  month  \\\n",
       "0   0    51.491     -0.172          301            6     3     10   \n",
       "1   1    39.386   -121.158          254            3    21      9   \n",
       "2   2    51.459      0.596          301            6     3     10   \n",
       "3   3    35.299   -120.613          145            2    14      5   \n",
       "4   4    29.927    120.527          221            0    14      8   \n",
       "\n",
       "   pollution_value  hour_sin  hour_cos  month_sin     month_cos  \\\n",
       "0             14.5  0.707107  0.707107  -0.866025  5.000000e-01   \n",
       "1             34.5 -0.707107  0.707107  -1.000000 -1.836970e-16   \n",
       "2             10.5  0.707107  0.707107  -0.866025  5.000000e-01   \n",
       "3             15.5 -0.500000 -0.866025   0.500000 -8.660254e-01   \n",
       "4             54.5 -0.500000 -0.866025  -0.866025 -5.000000e-01   \n",
       "\n",
       "   day_of_week_sin  day_of_week_cos     lat_long  dist_center  \\\n",
       "0        -0.781831         0.623490    -8.856452    37.825727   \n",
       "1         0.433884        -0.900969 -4771.928988   153.518152   \n",
       "2        -0.781831         0.623490    30.669564    37.154191   \n",
       "3         0.974928        -0.222521 -4257.518287   152.827967   \n",
       "4         0.000000         1.000000  3607.011529    88.371864   \n",
       "\n",
       "                    country  \n",
       "0            United Kingdom  \n",
       "1  United States of America  \n",
       "2            United Kingdom  \n",
       "3  United States of America  \n",
       "4                     China  "
      ]
     },
     "execution_count": 107,
     "metadata": {},
     "output_type": "execute_result"
    }
   ],
   "source": [
    "df_clean.head()"
   ]
  },
  {
   "cell_type": "code",
   "execution_count": 108,
   "id": "8ff080df",
   "metadata": {},
   "outputs": [],
   "source": [
    "df_clean['country'] = df_clean['country'].fillna('Unknown')"
   ]
  },
  {
   "cell_type": "code",
   "execution_count": 109,
   "id": "e6aab1c0",
   "metadata": {},
   "outputs": [],
   "source": [
    "# df_clean.to_csv('df_clean.csv', index=False)"
   ]
  },
  {
   "cell_type": "code",
   "execution_count": 110,
   "id": "88bd01eb",
   "metadata": {},
   "outputs": [],
   "source": [
    "train = shuffle(df_clean, random_state=RANDOM_STATE)"
   ]
  },
  {
   "cell_type": "code",
   "execution_count": 111,
   "id": "125a306d",
   "metadata": {},
   "outputs": [],
   "source": [
    "# train.columns"
   ]
  },
  {
   "cell_type": "code",
   "execution_count": 112,
   "id": "74b2aa17",
   "metadata": {},
   "outputs": [
    {
     "data": {
      "text/plain": [
       "((7649, 15), (7649,))"
      ]
     },
     "execution_count": 112,
     "metadata": {},
     "output_type": "execute_result"
    }
   ],
   "source": [
    "X = train.drop(columns=[\"id\", \"pollution_value\"], axis=1)\n",
    "y = train[\"pollution_value\"]\n",
    "X.shape, y.shape"
   ]
  },
  {
   "cell_type": "markdown",
   "id": "b8de67c0",
   "metadata": {},
   "source": [
    "\"month_cos\", \"day_of_week_cos\", \n",
    "                        \"hour_cos\", \"hour_sin\", \"hour\", \n",
    "                        \"day_of_week\", \"day_of_week_sin\", \n",
    "                        \"month\", \"month_sin\""
   ]
  },
  {
   "cell_type": "code",
   "execution_count": 113,
   "id": "05a86233",
   "metadata": {},
   "outputs": [
    {
     "data": {
      "text/plain": [
       "Index(['latitude', 'longitude', 'day_of_year', 'day_of_week', 'hour', 'month',\n",
       "       'hour_sin', 'hour_cos', 'month_sin', 'month_cos', 'day_of_week_sin',\n",
       "       'day_of_week_cos', 'lat_long', 'dist_center', 'country'],\n",
       "      dtype='object')"
      ]
     },
     "execution_count": 113,
     "metadata": {},
     "output_type": "execute_result"
    }
   ],
   "source": [
    "X.columns"
   ]
  },
  {
   "cell_type": "code",
   "execution_count": 114,
   "id": "03e821b7",
   "metadata": {},
   "outputs": [],
   "source": [
    "# imputer = KNNImputer(n_neighbors=5)\n",
    "# imputer.fit(X)\n",
    "# X_imputed = imputer.transform(X)\n",
    "\n",
    "# # Convert back to a DataFrame to see the result\n",
    "# X_imputed_df = pd.DataFrame(X_imputed, columns=X.columns)"
   ]
  },
  {
   "cell_type": "code",
   "execution_count": 115,
   "id": "58d7cc0b",
   "metadata": {},
   "outputs": [
    {
     "data": {
      "text/plain": [
       "((6119, 15), (1530, 15), (6119,), (1530,))"
      ]
     },
     "execution_count": 115,
     "metadata": {},
     "output_type": "execute_result"
    }
   ],
   "source": [
    "X_train, X_valid, y_train, y_valid = train_test_split(\n",
    "    X, \n",
    "    y, \n",
    "    test_size=0.2, \n",
    "    random_state=RANDOM_STATE)\n",
    "X_train.shape, X_valid.shape, y_train.shape, y_valid.shape  "
   ]
  },
  {
   "cell_type": "code",
   "execution_count": 116,
   "id": "81cddd5f",
   "metadata": {},
   "outputs": [],
   "source": [
    "cols = [col for col in X.columns if col != 'country']"
   ]
  },
  {
   "cell_type": "code",
   "execution_count": 117,
   "id": "56b9a794",
   "metadata": {},
   "outputs": [],
   "source": [
    "preprocessor = ColumnTransformer([\n",
    "    # (\"poly\", PolynomialFeatures(degree=2, interaction_only=False, include_bias=False), cols),\n",
    "    (\"scaler\", RobustScaler(), cols),\n",
    "    ('encoder', OneHotEncoder(handle_unknown='ignore'), [\"country\"])\n",
    "])"
   ]
  },
  {
   "cell_type": "code",
   "execution_count": 118,
   "id": "e19b190e",
   "metadata": {},
   "outputs": [],
   "source": [
    "xgb = XGBRegressor()\n",
    "rf = RandomForestRegressor(random_state=RANDOM_STATE)\n",
    "dtree = DecisionTreeRegressor(random_state=RANDOM_STATE)\n",
    "lr = LinearRegression()\n",
    "ridge = Ridge(random_state=RANDOM_STATE)\n",
    "lasso = Lasso(random_state=RANDOM_STATE)\n",
    "gb = GradientBoostingRegressor(random_state=RANDOM_STATE)"
   ]
  },
  {
   "cell_type": "code",
   "execution_count": 153,
   "id": "1e1a6026",
   "metadata": {},
   "outputs": [],
   "source": [
    "# data_pipeline = Pipeline([\n",
    "#     ('preprocessor', preprocessor),\n",
    "#     ('model', xgb)\n",
    "# ])\n",
    "\n",
    "# data_pipeline.fit(X_train, y_train)\n",
    "# y_pred = data_pipeline.predict(X_valid)\n",
    "\n",
    "# score = root_mean_squared_error(y_valid, y_pred)\n",
    "# print(f\"Root Mean Squared Error: {score}\")\n",
    "\n",
    "# custom_score = np.exp(-score / 100)\n",
    "# print(f\"Scaled RMSE (exp(-RMSE/100)): {custom_score}\")"
   ]
  },
  {
   "cell_type": "code",
   "execution_count": null,
   "id": "c39b590f",
   "metadata": {},
   "outputs": [
    {
     "name": "stdout",
     "output_type": "stream",
     "text": [
      "[-52.03673822 -28.23933019 -34.91831664 -44.44075078 -56.55338008] LinearRegression()\n",
      "[-52.03669825 -28.23898953 -34.91809597 -44.43795829 -56.55329074] Ridge(random_state=14)\n",
      "[-52.18471262 -28.3364452  -34.84815888 -44.42252998 -56.62779929] Lasso(random_state=14)\n",
      "[-55.80781432 -29.94361117 -65.4165764  -44.48317779 -53.61094198] DecisionTreeRegressor(random_state=14)\n",
      "[-48.10546529 -21.36891875 -28.82806657 -37.26794075 -54.82470707] GradientBoostingRegressor(random_state=14)\n",
      "[-54.9681598  -23.94917442 -30.10623836 -41.35441651 -51.41322401] XGBRegressor(base_score=None, booster=None, callbacks=None,\n",
      "             colsample_bylevel=None, colsample_bynode=None,\n",
      "             colsample_bytree=None, device=None, early_stopping_rounds=None,\n",
      "             enable_categorical=False, eval_metric=None, feature_types=None,\n",
      "             gamma=None, grow_policy=None, importance_type=None,\n",
      "             interaction_constraints=None, learning_rate=None, max_bin=None,\n",
      "             max_cat_threshold=None, max_cat_to_onehot=None,\n",
      "             max_delta_step=None, max_depth=None, max_leaves=None,\n",
      "             min_child_weight=None, missing=nan, monotone_constraints=None,\n",
      "             multi_strategy=None, n_estimators=None, n_jobs=None,\n",
      "             num_parallel_tree=None, random_state=None, ...)\n",
      "[-49.45483612 -21.10389958 -30.50535513 -37.78563503 -51.3548926 ] RandomForestRegressor(random_state=14)\n"
     ]
    },
    {
     "data": {
      "application/vnd.microsoft.datawrangler.viewer.v0+json": {
       "columns": [
        {
         "name": "index",
         "rawType": "int64",
         "type": "integer"
        },
        {
         "name": "model",
         "rawType": "object",
         "type": "string"
        },
        {
         "name": "rmse_score",
         "rawType": "float64",
         "type": "float"
        },
        {
         "name": "std",
         "rawType": "float64",
         "type": "float"
        }
       ],
       "ref": "866bc76d-d6ce-49a5-94cf-caf05aecf9d8",
       "rows": [
        [
         "3",
         "DecisionTreeRegressor",
         "-49.852424331222835",
         "11.9751877191116"
        ],
        [
         "2",
         "Lasso",
         "-43.28392919493079",
         "10.518257699891672"
        ],
        [
         "0",
         "LinearRegression",
         "-43.23770318252133",
         "10.491339068077975"
        ],
        [
         "1",
         "Ridge",
         "-43.23700655748189",
         "10.491378091374665"
        ],
        [
         "5",
         "XGBRegressor",
         "-40.35824261977049",
         "11.924896366660269"
        ],
        [
         "4",
         "GradientBoostingRegressor",
         "-38.079019685435846",
         "12.21812680774958"
        ],
        [
         "6",
         "RandomForestRegressor",
         "-38.04092369205509",
         "11.412729005179175"
        ]
       ],
       "shape": {
        "columns": 3,
        "rows": 7
       }
      },
      "text/html": [
       "<div>\n",
       "<style scoped>\n",
       "    .dataframe tbody tr th:only-of-type {\n",
       "        vertical-align: middle;\n",
       "    }\n",
       "\n",
       "    .dataframe tbody tr th {\n",
       "        vertical-align: top;\n",
       "    }\n",
       "\n",
       "    .dataframe thead th {\n",
       "        text-align: right;\n",
       "    }\n",
       "</style>\n",
       "<table border=\"1\" class=\"dataframe\">\n",
       "  <thead>\n",
       "    <tr style=\"text-align: right;\">\n",
       "      <th></th>\n",
       "      <th>model</th>\n",
       "      <th>rmse_score</th>\n",
       "      <th>std</th>\n",
       "    </tr>\n",
       "  </thead>\n",
       "  <tbody>\n",
       "    <tr>\n",
       "      <th>3</th>\n",
       "      <td>DecisionTreeRegressor</td>\n",
       "      <td>-49.852424</td>\n",
       "      <td>11.975188</td>\n",
       "    </tr>\n",
       "    <tr>\n",
       "      <th>2</th>\n",
       "      <td>Lasso</td>\n",
       "      <td>-43.283929</td>\n",
       "      <td>10.518258</td>\n",
       "    </tr>\n",
       "    <tr>\n",
       "      <th>0</th>\n",
       "      <td>LinearRegression</td>\n",
       "      <td>-43.237703</td>\n",
       "      <td>10.491339</td>\n",
       "    </tr>\n",
       "    <tr>\n",
       "      <th>1</th>\n",
       "      <td>Ridge</td>\n",
       "      <td>-43.237007</td>\n",
       "      <td>10.491378</td>\n",
       "    </tr>\n",
       "    <tr>\n",
       "      <th>5</th>\n",
       "      <td>XGBRegressor</td>\n",
       "      <td>-40.358243</td>\n",
       "      <td>11.924896</td>\n",
       "    </tr>\n",
       "    <tr>\n",
       "      <th>4</th>\n",
       "      <td>GradientBoostingRegressor</td>\n",
       "      <td>-38.079020</td>\n",
       "      <td>12.218127</td>\n",
       "    </tr>\n",
       "    <tr>\n",
       "      <th>6</th>\n",
       "      <td>RandomForestRegressor</td>\n",
       "      <td>-38.040924</td>\n",
       "      <td>11.412729</td>\n",
       "    </tr>\n",
       "  </tbody>\n",
       "</table>\n",
       "</div>"
      ],
      "text/plain": [
       "                       model  rmse_score        std\n",
       "3      DecisionTreeRegressor  -49.852424  11.975188\n",
       "2                      Lasso  -43.283929  10.518258\n",
       "0           LinearRegression  -43.237703  10.491339\n",
       "1                      Ridge  -43.237007  10.491378\n",
       "5               XGBRegressor  -40.358243  11.924896\n",
       "4  GradientBoostingRegressor  -38.079020  12.218127\n",
       "6      RandomForestRegressor  -38.040924  11.412729"
      ]
     },
     "execution_count": 32,
     "metadata": {},
     "output_type": "execute_result"
    }
   ],
   "source": [
    "# # Models Benchmarking\n",
    "# models = [lr, ridge, lasso, dtree, gb, xgb, rf]\n",
    "# model_name = []\n",
    "# score = []\n",
    "# train_score = []\n",
    "# std = []\n",
    "\n",
    "# for model in models:\n",
    "#     cv = KFold(n_splits=5)\n",
    "#     model_pipeline = Pipeline([\n",
    "#         (\"preprocessor\", preprocessor),\n",
    "#         (\"model\", model)\n",
    "#     ])\n",
    "\n",
    "#     model_cv = cross_val_score(model_pipeline, \n",
    "#                              X_train, \n",
    "#                              y_train, \n",
    "#                              cv=cv, \n",
    "#                              scoring=\"neg_root_mean_squared_error\")\n",
    "    \n",
    "#     print(model_cv, model)\n",
    "\n",
    "#     # Model Evaluation\n",
    "#     score.append(model_cv)\n",
    "#     train_score.append(model_cv.mean())\n",
    "#     std.append(model_cv.std())\n",
    "#     model_name.append(model.__class__.__name__)\n",
    "\n",
    "#     # Storing results\n",
    "#     benchmark_df = pd.DataFrame({\n",
    "#         \"model\":model_name,\n",
    "#         \"rmse_score\":train_score,\n",
    "#         \"std\":std}).sort_values(by=\"rmse_score\", ascending=True)\n",
    "    \n",
    "# benchmark_df"
   ]
  },
  {
   "cell_type": "code",
   "execution_count": 119,
   "id": "2504cd9c",
   "metadata": {},
   "outputs": [
    {
     "name": "stdout",
     "output_type": "stream",
     "text": [
      "Root Mean Squared Error: 46.16273781188174\n",
      "Scaled RMSE (exp(-RMSE/100)): 0.6302571437952185\n"
     ]
    }
   ],
   "source": [
    "data_pipeline = Pipeline([\n",
    "    (\"preprocessor\", preprocessor),\n",
    "    (\"model\", gb)\n",
    "])\n",
    "\n",
    "\n",
    "data_pipeline.fit(X_train, y_train)\n",
    "y_pred = data_pipeline.predict(X_valid)\n",
    "\n",
    "score = root_mean_squared_error(y_valid, y_pred)\n",
    "print(f\"Root Mean Squared Error: {score}\")\n",
    "\n",
    "custom_score = np.exp(-score / 100)\n",
    "print(f\"Scaled RMSE (exp(-RMSE/100)): {custom_score}\")"
   ]
  },
  {
   "cell_type": "markdown",
   "id": "50ebcdae",
   "metadata": {},
   "source": [
    "best score so far 0.630630856421471"
   ]
  },
  {
   "cell_type": "code",
   "execution_count": 90,
   "id": "6398bb7a",
   "metadata": {},
   "outputs": [],
   "source": [
    "param_dist = {\n",
    "    \"model__n_estimators\": Integer(100, 1000),\n",
    "    \"model__max_depth\": Integer(3, 15),\n",
    "    \"model__learning_rate\": Real(0.01, 0.3, prior='log-uniform'),\n",
    "    \"model__subsample\": Real(0.5, 1.0, prior='uniform'),\n",
    "    \"model__min_samples_split\": Integer(2, 20),\n",
    "    \"model__min_samples_leaf\": Integer(1, 20),\n",
    "    \"model__max_features\": Real(0.5, 1.0, prior='uniform'),\n",
    "    \"model__loss\": Categorical(['squared_error', 'absolute_error', 'huber', 'quantile'])\n",
    "}"
   ]
  },
  {
   "cell_type": "code",
   "execution_count": 91,
   "id": "65584fc7",
   "metadata": {},
   "outputs": [
    {
     "name": "stdout",
     "output_type": "stream",
     "text": [
      "Fitting 5 folds for each of 1 candidates, totalling 5 fits\n",
      "Fitting 5 folds for each of 1 candidates, totalling 5 fits\n",
      "Fitting 5 folds for each of 1 candidates, totalling 5 fits\n",
      "Fitting 5 folds for each of 1 candidates, totalling 5 fits\n",
      "Fitting 5 folds for each of 1 candidates, totalling 5 fits\n",
      "Fitting 5 folds for each of 1 candidates, totalling 5 fits\n",
      "Fitting 5 folds for each of 1 candidates, totalling 5 fits\n",
      "Fitting 5 folds for each of 1 candidates, totalling 5 fits\n",
      "Fitting 5 folds for each of 1 candidates, totalling 5 fits\n",
      "Fitting 5 folds for each of 1 candidates, totalling 5 fits\n",
      "Fitting 5 folds for each of 1 candidates, totalling 5 fits\n",
      "Fitting 5 folds for each of 1 candidates, totalling 5 fits\n",
      "Fitting 5 folds for each of 1 candidates, totalling 5 fits\n",
      "Fitting 5 folds for each of 1 candidates, totalling 5 fits\n",
      "Fitting 5 folds for each of 1 candidates, totalling 5 fits\n",
      "Fitting 5 folds for each of 1 candidates, totalling 5 fits\n",
      "Fitting 5 folds for each of 1 candidates, totalling 5 fits\n",
      "Fitting 5 folds for each of 1 candidates, totalling 5 fits\n",
      "Fitting 5 folds for each of 1 candidates, totalling 5 fits\n",
      "Fitting 5 folds for each of 1 candidates, totalling 5 fits\n",
      "Fitting 5 folds for each of 1 candidates, totalling 5 fits\n",
      "Fitting 5 folds for each of 1 candidates, totalling 5 fits\n",
      "Fitting 5 folds for each of 1 candidates, totalling 5 fits\n",
      "Fitting 5 folds for each of 1 candidates, totalling 5 fits\n",
      "Fitting 5 folds for each of 1 candidates, totalling 5 fits\n",
      "Fitting 5 folds for each of 1 candidates, totalling 5 fits\n",
      "Fitting 5 folds for each of 1 candidates, totalling 5 fits\n",
      "Fitting 5 folds for each of 1 candidates, totalling 5 fits\n",
      "Fitting 5 folds for each of 1 candidates, totalling 5 fits\n",
      "Fitting 5 folds for each of 1 candidates, totalling 5 fits\n",
      "Fitting 5 folds for each of 1 candidates, totalling 5 fits\n",
      "Fitting 5 folds for each of 1 candidates, totalling 5 fits\n",
      "Fitting 5 folds for each of 1 candidates, totalling 5 fits\n",
      "Fitting 5 folds for each of 1 candidates, totalling 5 fits\n",
      "Fitting 5 folds for each of 1 candidates, totalling 5 fits\n",
      "Fitting 5 folds for each of 1 candidates, totalling 5 fits\n",
      "Fitting 5 folds for each of 1 candidates, totalling 5 fits\n",
      "Fitting 5 folds for each of 1 candidates, totalling 5 fits\n",
      "Fitting 5 folds for each of 1 candidates, totalling 5 fits\n",
      "Fitting 5 folds for each of 1 candidates, totalling 5 fits\n",
      "Fitting 5 folds for each of 1 candidates, totalling 5 fits\n",
      "Fitting 5 folds for each of 1 candidates, totalling 5 fits\n",
      "Fitting 5 folds for each of 1 candidates, totalling 5 fits\n",
      "Fitting 5 folds for each of 1 candidates, totalling 5 fits\n",
      "Fitting 5 folds for each of 1 candidates, totalling 5 fits\n",
      "Fitting 5 folds for each of 1 candidates, totalling 5 fits\n",
      "Fitting 5 folds for each of 1 candidates, totalling 5 fits\n",
      "Fitting 5 folds for each of 1 candidates, totalling 5 fits\n",
      "Fitting 5 folds for each of 1 candidates, totalling 5 fits\n",
      "Fitting 5 folds for each of 1 candidates, totalling 5 fits\n",
      "Best parameters found:  OrderedDict({'model__learning_rate': 0.09161385516199015, 'model__loss': 'huber', 'model__max_depth': 12, 'model__max_features': 0.8729584015007399, 'model__min_samples_leaf': 18, 'model__min_samples_split': 14, 'model__n_estimators': 631, 'model__subsample': 0.9343428406660865})\n",
      "Best CV score (negative RMSE):  0.39523888160399334\n",
      "Best CV RMSE: -0.3952\n",
      "Root Mean Squared Error: 45.36898362067854\n",
      "Scaled RMSE (exp(-RMSE/100)): 0.6352797434666161\n"
     ]
    }
   ],
   "source": [
    "data_pipeline = Pipeline([\n",
    "    ('preprocessor', preprocessor),\n",
    "    ('model', gb)\n",
    "])\n",
    "\n",
    "fold = KFold(n_splits=5)\n",
    "bayes_search = BayesSearchCV(\n",
    "    data_pipeline,\n",
    "    param_dist,\n",
    "    n_iter=50,\n",
    "    cv=fold,\n",
    "    n_jobs=-1,\n",
    "    verbose=2,\n",
    "    random_state=RANDOM_STATE,\n",
    "    error_score=\"raise\",\n",
    ")\n",
    "\n",
    "bayes_search.fit(X_train, y_train)\n",
    "\n",
    "print(\"Best parameters found: \", bayes_search.best_params_)\n",
    "print(\"Best CV score (negative RMSE): \", bayes_search.best_score_)\n",
    "print(f\"Best CV RMSE: {-bayes_search.best_score_:.4f}\")\n",
    "\n",
    "best_model = bayes_search.best_estimator_\n",
    "predictions = best_model.predict(X_valid)\n",
    "\n",
    "score = root_mean_squared_error(y_valid, predictions)\n",
    "print(f\"Root Mean Squared Error: {score}\")\n",
    "\n",
    "custom_score = np.exp(-score / 100)\n",
    "print(f\"Scaled RMSE (exp(-RMSE/100)): {custom_score}\")"
   ]
  },
  {
   "cell_type": "markdown",
   "id": "aa965d60",
   "metadata": {},
   "source": [
    "best score with hyperparameter tuning 0.6359551921230686, but lower in unseen than the base"
   ]
  },
  {
   "cell_type": "markdown",
   "id": "f1b718d7",
   "metadata": {},
   "source": [
    "# Neural Network"
   ]
  },
  {
   "cell_type": "code",
   "execution_count": 46,
   "id": "4244ad17",
   "metadata": {},
   "outputs": [],
   "source": [
    "# Neural Network model for regression using TensorFlow/Keras\n",
    "import tensorflow as tf\n",
    "from tensorflow import keras\n",
    "from tensorflow.keras import layers"
   ]
  },
  {
   "cell_type": "code",
   "execution_count": 63,
   "id": "62406aec",
   "metadata": {},
   "outputs": [],
   "source": [
    "scaler = RobustScaler()\n",
    "X_train_scaled = scaler.fit_transform(X_train)\n",
    "X_valid_scaled = scaler.transform(X_valid)"
   ]
  },
  {
   "cell_type": "code",
   "execution_count": 70,
   "id": "7be8e20e",
   "metadata": {},
   "outputs": [
    {
     "name": "stdout",
     "output_type": "stream",
     "text": [
      "Epoch 1/100\n"
     ]
    },
    {
     "name": "stderr",
     "output_type": "stream",
     "text": [
      "c:\\Users\\gembo\\AppData\\Local\\Programs\\Python\\Python312\\Lib\\site-packages\\keras\\src\\layers\\core\\dense.py:87: UserWarning: Do not pass an `input_shape`/`input_dim` argument to a layer. When using Sequential models, prefer using an `Input(shape)` object as the first layer in the model instead.\n",
      "  super().__init__(activity_regularizer=activity_regularizer, **kwargs)\n"
     ]
    },
    {
     "name": "stdout",
     "output_type": "stream",
     "text": [
      "\u001b[1m192/192\u001b[0m \u001b[32m━━━━━━━━━━━━━━━━━━━━\u001b[0m\u001b[37m\u001b[0m \u001b[1m3s\u001b[0m 4ms/step - loss: 2045.3894 - root_mean_squared_error: 45.0920 - val_loss: 2259.8411 - val_root_mean_squared_error: 47.5378\n",
      "Epoch 2/100\n",
      "\u001b[1m192/192\u001b[0m \u001b[32m━━━━━━━━━━━━━━━━━━━━\u001b[0m\u001b[37m\u001b[0m \u001b[1m1s\u001b[0m 3ms/step - loss: 1969.2437 - root_mean_squared_error: 43.8885 - val_loss: 2210.1931 - val_root_mean_squared_error: 47.0127\n",
      "Epoch 3/100\n",
      "\u001b[1m192/192\u001b[0m \u001b[32m━━━━━━━━━━━━━━━━━━━━\u001b[0m\u001b[37m\u001b[0m \u001b[1m1s\u001b[0m 3ms/step - loss: 986.6253 - root_mean_squared_error: 30.0710 - val_loss: 2232.0261 - val_root_mean_squared_error: 47.2443\n",
      "Epoch 4/100\n",
      "\u001b[1m192/192\u001b[0m \u001b[32m━━━━━━━━━━━━━━━━━━━━\u001b[0m\u001b[37m\u001b[0m \u001b[1m1s\u001b[0m 3ms/step - loss: 1491.6202 - root_mean_squared_error: 37.8800 - val_loss: 2184.0686 - val_root_mean_squared_error: 46.7340\n",
      "Epoch 5/100\n",
      "\u001b[1m192/192\u001b[0m \u001b[32m━━━━━━━━━━━━━━━━━━━━\u001b[0m\u001b[37m\u001b[0m \u001b[1m1s\u001b[0m 3ms/step - loss: 1142.6227 - root_mean_squared_error: 33.3927 - val_loss: 2205.4590 - val_root_mean_squared_error: 46.9623\n",
      "Epoch 6/100\n",
      "\u001b[1m192/192\u001b[0m \u001b[32m━━━━━━━━━━━━━━━━━━━━\u001b[0m\u001b[37m\u001b[0m \u001b[1m1s\u001b[0m 3ms/step - loss: 1236.3057 - root_mean_squared_error: 34.9873 - val_loss: 2204.3970 - val_root_mean_squared_error: 46.9510\n",
      "Epoch 7/100\n",
      "\u001b[1m192/192\u001b[0m \u001b[32m━━━━━━━━━━━━━━━━━━━━\u001b[0m\u001b[37m\u001b[0m \u001b[1m1s\u001b[0m 3ms/step - loss: 1987.6270 - root_mean_squared_error: 43.6655 - val_loss: 2193.3594 - val_root_mean_squared_error: 46.8333\n",
      "Epoch 8/100\n",
      "\u001b[1m192/192\u001b[0m \u001b[32m━━━━━━━━━━━━━━━━━━━━\u001b[0m\u001b[37m\u001b[0m \u001b[1m1s\u001b[0m 3ms/step - loss: 1360.2678 - root_mean_squared_error: 36.3147 - val_loss: 2192.4641 - val_root_mean_squared_error: 46.8238\n",
      "Epoch 9/100\n",
      "\u001b[1m192/192\u001b[0m \u001b[32m━━━━━━━━━━━━━━━━━━━━\u001b[0m\u001b[37m\u001b[0m \u001b[1m1s\u001b[0m 3ms/step - loss: 992.1034 - root_mean_squared_error: 30.8936 - val_loss: 2278.6096 - val_root_mean_squared_error: 47.7348\n",
      "Epoch 10/100\n",
      "\u001b[1m192/192\u001b[0m \u001b[32m━━━━━━━━━━━━━━━━━━━━\u001b[0m\u001b[37m\u001b[0m \u001b[1m1s\u001b[0m 3ms/step - loss: 1751.0560 - root_mean_squared_error: 41.2524 - val_loss: 2174.4866 - val_root_mean_squared_error: 46.6314\n",
      "Epoch 11/100\n",
      "\u001b[1m192/192\u001b[0m \u001b[32m━━━━━━━━━━━━━━━━━━━━\u001b[0m\u001b[37m\u001b[0m \u001b[1m1s\u001b[0m 3ms/step - loss: 906.3320 - root_mean_squared_error: 29.4744 - val_loss: 2472.3640 - val_root_mean_squared_error: 49.7229\n",
      "Epoch 12/100\n",
      "\u001b[1m192/192\u001b[0m \u001b[32m━━━━━━━━━━━━━━━━━━━━\u001b[0m\u001b[37m\u001b[0m \u001b[1m1s\u001b[0m 3ms/step - loss: 1420.8269 - root_mean_squared_error: 36.4981 - val_loss: 2652.7043 - val_root_mean_squared_error: 51.5044\n",
      "Epoch 13/100\n",
      "\u001b[1m192/192\u001b[0m \u001b[32m━━━━━━━━━━━━━━━━━━━━\u001b[0m\u001b[37m\u001b[0m \u001b[1m1s\u001b[0m 3ms/step - loss: 1414.0785 - root_mean_squared_error: 36.4507 - val_loss: 2203.2744 - val_root_mean_squared_error: 46.9390\n",
      "Epoch 14/100\n",
      "\u001b[1m192/192\u001b[0m \u001b[32m━━━━━━━━━━━━━━━━━━━━\u001b[0m\u001b[37m\u001b[0m \u001b[1m1s\u001b[0m 3ms/step - loss: 1241.8597 - root_mean_squared_error: 34.8346 - val_loss: 2317.4324 - val_root_mean_squared_error: 48.1397\n",
      "Epoch 15/100\n",
      "\u001b[1m192/192\u001b[0m \u001b[32m━━━━━━━━━━━━━━━━━━━━\u001b[0m\u001b[37m\u001b[0m \u001b[1m1s\u001b[0m 3ms/step - loss: 1213.1177 - root_mean_squared_error: 34.6979 - val_loss: 2557.7158 - val_root_mean_squared_error: 50.5739\n",
      "Epoch 16/100\n",
      "\u001b[1m192/192\u001b[0m \u001b[32m━━━━━━━━━━━━━━━━━━━━\u001b[0m\u001b[37m\u001b[0m \u001b[1m1s\u001b[0m 3ms/step - loss: 1119.5670 - root_mean_squared_error: 32.8807 - val_loss: 2698.5708 - val_root_mean_squared_error: 51.9478\n",
      "Epoch 17/100\n",
      "\u001b[1m192/192\u001b[0m \u001b[32m━━━━━━━━━━━━━━━━━━━━\u001b[0m\u001b[37m\u001b[0m \u001b[1m1s\u001b[0m 3ms/step - loss: 868.9078 - root_mean_squared_error: 29.2596 - val_loss: 6641.5791 - val_root_mean_squared_error: 81.4959\n",
      "Epoch 18/100\n",
      "\u001b[1m192/192\u001b[0m \u001b[32m━━━━━━━━━━━━━━━━━━━━\u001b[0m\u001b[37m\u001b[0m \u001b[1m1s\u001b[0m 3ms/step - loss: 1955.7815 - root_mean_squared_error: 42.3209 - val_loss: 2669.1260 - val_root_mean_squared_error: 51.6636\n",
      "Epoch 19/100\n",
      "\u001b[1m192/192\u001b[0m \u001b[32m━━━━━━━━━━━━━━━━━━━━\u001b[0m\u001b[37m\u001b[0m \u001b[1m1s\u001b[0m 3ms/step - loss: 800.7491 - root_mean_squared_error: 28.1006 - val_loss: 3035.5090 - val_root_mean_squared_error: 55.0955\n",
      "Epoch 20/100\n",
      "\u001b[1m192/192\u001b[0m \u001b[32m━━━━━━━━━━━━━━━━━━━━\u001b[0m\u001b[37m\u001b[0m \u001b[1m1s\u001b[0m 3ms/step - loss: 817.5319 - root_mean_squared_error: 28.2897 - val_loss: 3302.8198 - val_root_mean_squared_error: 57.4702\n",
      "Epoch 21/100\n",
      "\u001b[1m192/192\u001b[0m \u001b[32m━━━━━━━━━━━━━━━━━━━━\u001b[0m\u001b[37m\u001b[0m \u001b[1m1s\u001b[0m 3ms/step - loss: 1381.7145 - root_mean_squared_error: 36.6667 - val_loss: 2887.1436 - val_root_mean_squared_error: 53.7321\n",
      "Epoch 22/100\n",
      "\u001b[1m192/192\u001b[0m \u001b[32m━━━━━━━━━━━━━━━━━━━━\u001b[0m\u001b[37m\u001b[0m \u001b[1m1s\u001b[0m 3ms/step - loss: 805.8077 - root_mean_squared_error: 28.1827 - val_loss: 3108.3975 - val_root_mean_squared_error: 55.7530\n",
      "Epoch 23/100\n",
      "\u001b[1m192/192\u001b[0m \u001b[32m━━━━━━━━━━━━━━━━━━━━\u001b[0m\u001b[37m\u001b[0m \u001b[1m1s\u001b[0m 3ms/step - loss: 684.6056 - root_mean_squared_error: 25.9162 - val_loss: 2177.9258 - val_root_mean_squared_error: 46.6683\n",
      "Epoch 24/100\n",
      "\u001b[1m192/192\u001b[0m \u001b[32m━━━━━━━━━━━━━━━━━━━━\u001b[0m\u001b[37m\u001b[0m \u001b[1m1s\u001b[0m 3ms/step - loss: 711.1529 - root_mean_squared_error: 26.2105 - val_loss: 3993.5396 - val_root_mean_squared_error: 63.1945\n",
      "Epoch 25/100\n",
      "\u001b[1m192/192\u001b[0m \u001b[32m━━━━━━━━━━━━━━━━━━━━\u001b[0m\u001b[37m\u001b[0m \u001b[1m1s\u001b[0m 3ms/step - loss: 748.6848 - root_mean_squared_error: 27.0402 - val_loss: 2578.9634 - val_root_mean_squared_error: 50.7835\n",
      "Epoch 26/100\n",
      "\u001b[1m192/192\u001b[0m \u001b[32m━━━━━━━━━━━━━━━━━━━━\u001b[0m\u001b[37m\u001b[0m \u001b[1m1s\u001b[0m 3ms/step - loss: 641.0049 - root_mean_squared_error: 25.1093 - val_loss: 2536.5193 - val_root_mean_squared_error: 50.3639\n",
      "Epoch 27/100\n",
      "\u001b[1m192/192\u001b[0m \u001b[32m━━━━━━━━━━━━━━━━━━━━\u001b[0m\u001b[37m\u001b[0m \u001b[1m1s\u001b[0m 3ms/step - loss: 620.3771 - root_mean_squared_error: 24.6914 - val_loss: 3755.9839 - val_root_mean_squared_error: 61.2861\n",
      "Epoch 28/100\n",
      "\u001b[1m192/192\u001b[0m \u001b[32m━━━━━━━━━━━━━━━━━━━━\u001b[0m\u001b[37m\u001b[0m \u001b[1m1s\u001b[0m 3ms/step - loss: 926.0322 - root_mean_squared_error: 30.1509 - val_loss: 2542.0520 - val_root_mean_squared_error: 50.4188\n",
      "Epoch 29/100\n",
      "\u001b[1m192/192\u001b[0m \u001b[32m━━━━━━━━━━━━━━━━━━━━\u001b[0m\u001b[37m\u001b[0m \u001b[1m1s\u001b[0m 3ms/step - loss: 712.7375 - root_mean_squared_error: 26.4466 - val_loss: 3364.0164 - val_root_mean_squared_error: 58.0001\n",
      "Epoch 30/100\n",
      "\u001b[1m192/192\u001b[0m \u001b[32m━━━━━━━━━━━━━━━━━━━━\u001b[0m\u001b[37m\u001b[0m \u001b[1m1s\u001b[0m 3ms/step - loss: 442.8246 - root_mean_squared_error: 20.8445 - val_loss: 2633.2561 - val_root_mean_squared_error: 51.3153\n",
      "Epoch 31/100\n",
      "\u001b[1m192/192\u001b[0m \u001b[32m━━━━━━━━━━━━━━━━━━━━\u001b[0m\u001b[37m\u001b[0m \u001b[1m1s\u001b[0m 3ms/step - loss: 481.0016 - root_mean_squared_error: 21.7187 - val_loss: 3452.4902 - val_root_mean_squared_error: 58.7579\n",
      "Epoch 32/100\n",
      "\u001b[1m192/192\u001b[0m \u001b[32m━━━━━━━━━━━━━━━━━━━━\u001b[0m\u001b[37m\u001b[0m \u001b[1m1s\u001b[0m 3ms/step - loss: 468.9023 - root_mean_squared_error: 21.4915 - val_loss: 2851.2097 - val_root_mean_squared_error: 53.3967\n",
      "Epoch 33/100\n",
      "\u001b[1m192/192\u001b[0m \u001b[32m━━━━━━━━━━━━━━━━━━━━\u001b[0m\u001b[37m\u001b[0m \u001b[1m1s\u001b[0m 3ms/step - loss: 859.3259 - root_mean_squared_error: 28.0347 - val_loss: 4163.3979 - val_root_mean_squared_error: 64.5244\n",
      "Epoch 34/100\n",
      "\u001b[1m192/192\u001b[0m \u001b[32m━━━━━━━━━━━━━━━━━━━━\u001b[0m\u001b[37m\u001b[0m \u001b[1m1s\u001b[0m 3ms/step - loss: 389.9145 - root_mean_squared_error: 19.6803 - val_loss: 3049.0076 - val_root_mean_squared_error: 55.2178\n",
      "Epoch 35/100\n",
      "\u001b[1m192/192\u001b[0m \u001b[32m━━━━━━━━━━━━━━━━━━━━\u001b[0m\u001b[37m\u001b[0m \u001b[1m1s\u001b[0m 3ms/step - loss: 529.5499 - root_mean_squared_error: 22.8514 - val_loss: 3438.4839 - val_root_mean_squared_error: 58.6386\n",
      "Epoch 36/100\n",
      "\u001b[1m192/192\u001b[0m \u001b[32m━━━━━━━━━━━━━━━━━━━━\u001b[0m\u001b[37m\u001b[0m \u001b[1m1s\u001b[0m 3ms/step - loss: 418.1077 - root_mean_squared_error: 20.2270 - val_loss: 3291.3030 - val_root_mean_squared_error: 57.3699\n",
      "Epoch 37/100\n",
      "\u001b[1m192/192\u001b[0m \u001b[32m━━━━━━━━━━━━━━━━━━━━\u001b[0m\u001b[37m\u001b[0m \u001b[1m1s\u001b[0m 3ms/step - loss: 382.5829 - root_mean_squared_error: 19.4015 - val_loss: 2955.0249 - val_root_mean_squared_error: 54.3601\n",
      "Epoch 38/100\n",
      "\u001b[1m192/192\u001b[0m \u001b[32m━━━━━━━━━━━━━━━━━━━━\u001b[0m\u001b[37m\u001b[0m \u001b[1m1s\u001b[0m 3ms/step - loss: 925.1108 - root_mean_squared_error: 29.5477 - val_loss: 3303.5203 - val_root_mean_squared_error: 57.4763\n",
      "Epoch 39/100\n",
      "\u001b[1m192/192\u001b[0m \u001b[32m━━━━━━━━━━━━━━━━━━━━\u001b[0m\u001b[37m\u001b[0m \u001b[1m1s\u001b[0m 3ms/step - loss: 455.0698 - root_mean_squared_error: 21.0046 - val_loss: 3836.9651 - val_root_mean_squared_error: 61.9432\n",
      "Epoch 40/100\n",
      "\u001b[1m192/192\u001b[0m \u001b[32m━━━━━━━━━━━━━━━━━━━━\u001b[0m\u001b[37m\u001b[0m \u001b[1m1s\u001b[0m 3ms/step - loss: 376.5743 - root_mean_squared_error: 19.2725 - val_loss: 4385.9258 - val_root_mean_squared_error: 66.2263\n",
      "Epoch 41/100\n",
      "\u001b[1m192/192\u001b[0m \u001b[32m━━━━━━━━━━━━━━━━━━━━\u001b[0m\u001b[37m\u001b[0m \u001b[1m1s\u001b[0m 3ms/step - loss: 586.9648 - root_mean_squared_error: 24.1130 - val_loss: 4010.8542 - val_root_mean_squared_error: 63.3313\n",
      "Epoch 42/100\n",
      "\u001b[1m192/192\u001b[0m \u001b[32m━━━━━━━━━━━━━━━━━━━━\u001b[0m\u001b[37m\u001b[0m \u001b[1m1s\u001b[0m 3ms/step - loss: 861.8752 - root_mean_squared_error: 29.0479 - val_loss: 2303.4414 - val_root_mean_squared_error: 47.9942\n",
      "Epoch 43/100\n",
      "\u001b[1m192/192\u001b[0m \u001b[32m━━━━━━━━━━━━━━━━━━━━\u001b[0m\u001b[37m\u001b[0m \u001b[1m1s\u001b[0m 3ms/step - loss: 865.4705 - root_mean_squared_error: 29.1300 - val_loss: 3187.2268 - val_root_mean_squared_error: 56.4555\n",
      "Epoch 44/100\n",
      "\u001b[1m192/192\u001b[0m \u001b[32m━━━━━━━━━━━━━━━━━━━━\u001b[0m\u001b[37m\u001b[0m \u001b[1m1s\u001b[0m 3ms/step - loss: 399.8186 - root_mean_squared_error: 19.8694 - val_loss: 3431.5764 - val_root_mean_squared_error: 58.5797\n",
      "Epoch 45/100\n",
      "\u001b[1m192/192\u001b[0m \u001b[32m━━━━━━━━━━━━━━━━━━━━\u001b[0m\u001b[37m\u001b[0m \u001b[1m1s\u001b[0m 3ms/step - loss: 650.8270 - root_mean_squared_error: 25.0106 - val_loss: 3592.8909 - val_root_mean_squared_error: 59.9407\n",
      "Epoch 46/100\n",
      "\u001b[1m192/192\u001b[0m \u001b[32m━━━━━━━━━━━━━━━━━━━━\u001b[0m\u001b[37m\u001b[0m \u001b[1m1s\u001b[0m 3ms/step - loss: 603.0836 - root_mean_squared_error: 24.4329 - val_loss: 3296.2122 - val_root_mean_squared_error: 57.4126\n",
      "Epoch 47/100\n",
      "\u001b[1m192/192\u001b[0m \u001b[32m━━━━━━━━━━━━━━━━━━━━\u001b[0m\u001b[37m\u001b[0m \u001b[1m1s\u001b[0m 3ms/step - loss: 407.3164 - root_mean_squared_error: 20.1186 - val_loss: 4042.7356 - val_root_mean_squared_error: 63.5825\n",
      "Epoch 48/100\n",
      "\u001b[1m192/192\u001b[0m \u001b[32m━━━━━━━━━━━━━━━━━━━━\u001b[0m\u001b[37m\u001b[0m \u001b[1m1s\u001b[0m 3ms/step - loss: 697.9019 - root_mean_squared_error: 26.0824 - val_loss: 3699.9375 - val_root_mean_squared_error: 60.8271\n",
      "Epoch 49/100\n",
      "\u001b[1m192/192\u001b[0m \u001b[32m━━━━━━━━━━━━━━━━━━━━\u001b[0m\u001b[37m\u001b[0m \u001b[1m1s\u001b[0m 3ms/step - loss: 834.2830 - root_mean_squared_error: 28.0391 - val_loss: 3108.4856 - val_root_mean_squared_error: 55.7538\n",
      "Epoch 50/100\n",
      "\u001b[1m192/192\u001b[0m \u001b[32m━━━━━━━━━━━━━━━━━━━━\u001b[0m\u001b[37m\u001b[0m \u001b[1m1s\u001b[0m 3ms/step - loss: 679.2021 - root_mean_squared_error: 25.8581 - val_loss: 3190.4250 - val_root_mean_squared_error: 56.4838\n",
      "Epoch 51/100\n",
      "\u001b[1m192/192\u001b[0m \u001b[32m━━━━━━━━━━━━━━━━━━━━\u001b[0m\u001b[37m\u001b[0m \u001b[1m1s\u001b[0m 3ms/step - loss: 403.3129 - root_mean_squared_error: 19.9968 - val_loss: 2652.1570 - val_root_mean_squared_error: 51.4991\n",
      "Epoch 52/100\n",
      "\u001b[1m192/192\u001b[0m \u001b[32m━━━━━━━━━━━━━━━━━━━━\u001b[0m\u001b[37m\u001b[0m \u001b[1m1s\u001b[0m 3ms/step - loss: 440.3272 - root_mean_squared_error: 20.8031 - val_loss: 3743.2151 - val_root_mean_squared_error: 61.1818\n",
      "Epoch 53/100\n",
      "\u001b[1m192/192\u001b[0m \u001b[32m━━━━━━━━━━━━━━━━━━━━\u001b[0m\u001b[37m\u001b[0m \u001b[1m1s\u001b[0m 3ms/step - loss: 380.0343 - root_mean_squared_error: 19.4255 - val_loss: 3577.5764 - val_root_mean_squared_error: 59.8128\n",
      "Epoch 54/100\n",
      "\u001b[1m192/192\u001b[0m \u001b[32m━━━━━━━━━━━━━━━━━━━━\u001b[0m\u001b[37m\u001b[0m \u001b[1m1s\u001b[0m 3ms/step - loss: 339.4237 - root_mean_squared_error: 18.3010 - val_loss: 4264.4697 - val_root_mean_squared_error: 65.3029\n",
      "Epoch 55/100\n",
      "\u001b[1m192/192\u001b[0m \u001b[32m━━━━━━━━━━━━━━━━━━━━\u001b[0m\u001b[37m\u001b[0m \u001b[1m1s\u001b[0m 3ms/step - loss: 341.2398 - root_mean_squared_error: 18.4254 - val_loss: 4067.2161 - val_root_mean_squared_error: 63.7747\n",
      "Epoch 56/100\n",
      "\u001b[1m192/192\u001b[0m \u001b[32m━━━━━━━━━━━━━━━━━━━━\u001b[0m\u001b[37m\u001b[0m \u001b[1m1s\u001b[0m 3ms/step - loss: 333.9297 - root_mean_squared_error: 18.1185 - val_loss: 3258.0020 - val_root_mean_squared_error: 57.0789\n",
      "Epoch 57/100\n",
      "\u001b[1m192/192\u001b[0m \u001b[32m━━━━━━━━━━━━━━━━━━━━\u001b[0m\u001b[37m\u001b[0m \u001b[1m1s\u001b[0m 3ms/step - loss: 502.7053 - root_mean_squared_error: 22.1989 - val_loss: 3136.3049 - val_root_mean_squared_error: 56.0027\n",
      "Epoch 58/100\n",
      "\u001b[1m192/192\u001b[0m \u001b[32m━━━━━━━━━━━━━━━━━━━━\u001b[0m\u001b[37m\u001b[0m \u001b[1m1s\u001b[0m 3ms/step - loss: 379.7636 - root_mean_squared_error: 19.4344 - val_loss: 4026.5251 - val_root_mean_squared_error: 63.4549\n",
      "Epoch 59/100\n",
      "\u001b[1m192/192\u001b[0m \u001b[32m━━━━━━━━━━━━━━━━━━━━\u001b[0m\u001b[37m\u001b[0m \u001b[1m1s\u001b[0m 3ms/step - loss: 517.3083 - root_mean_squared_error: 22.3197 - val_loss: 3451.7375 - val_root_mean_squared_error: 58.7515\n",
      "Epoch 60/100\n",
      "\u001b[1m192/192\u001b[0m \u001b[32m━━━━━━━━━━━━━━━━━━━━\u001b[0m\u001b[37m\u001b[0m \u001b[1m1s\u001b[0m 3ms/step - loss: 402.0862 - root_mean_squared_error: 19.9680 - val_loss: 3270.3108 - val_root_mean_squared_error: 57.1866\n",
      "Epoch 61/100\n",
      "\u001b[1m192/192\u001b[0m \u001b[32m━━━━━━━━━━━━━━━━━━━━\u001b[0m\u001b[37m\u001b[0m \u001b[1m1s\u001b[0m 3ms/step - loss: 461.0893 - root_mean_squared_error: 21.3672 - val_loss: 2808.8640 - val_root_mean_squared_error: 52.9987\n",
      "Epoch 62/100\n",
      "\u001b[1m192/192\u001b[0m \u001b[32m━━━━━━━━━━━━━━━━━━━━\u001b[0m\u001b[37m\u001b[0m \u001b[1m1s\u001b[0m 3ms/step - loss: 464.1322 - root_mean_squared_error: 21.3297 - val_loss: 4343.1328 - val_root_mean_squared_error: 65.9025\n",
      "Epoch 63/100\n",
      "\u001b[1m192/192\u001b[0m \u001b[32m━━━━━━━━━━━━━━━━━━━━\u001b[0m\u001b[37m\u001b[0m \u001b[1m1s\u001b[0m 3ms/step - loss: 524.5641 - root_mean_squared_error: 22.5890 - val_loss: 3555.4307 - val_root_mean_squared_error: 59.6274\n",
      "Epoch 64/100\n",
      "\u001b[1m192/192\u001b[0m \u001b[32m━━━━━━━━━━━━━━━━━━━━\u001b[0m\u001b[37m\u001b[0m \u001b[1m1s\u001b[0m 3ms/step - loss: 416.1202 - root_mean_squared_error: 20.3205 - val_loss: 3743.3003 - val_root_mean_squared_error: 61.1825\n",
      "Epoch 65/100\n",
      "\u001b[1m192/192\u001b[0m \u001b[32m━━━━━━━━━━━━━━━━━━━━\u001b[0m\u001b[37m\u001b[0m \u001b[1m1s\u001b[0m 3ms/step - loss: 347.3618 - root_mean_squared_error: 18.4943 - val_loss: 3586.1570 - val_root_mean_squared_error: 59.8845\n",
      "Epoch 66/100\n",
      "\u001b[1m192/192\u001b[0m \u001b[32m━━━━━━━━━━━━━━━━━━━━\u001b[0m\u001b[37m\u001b[0m \u001b[1m1s\u001b[0m 3ms/step - loss: 361.2551 - root_mean_squared_error: 18.9193 - val_loss: 4237.4990 - val_root_mean_squared_error: 65.0961\n",
      "Epoch 67/100\n",
      "\u001b[1m192/192\u001b[0m \u001b[32m━━━━━━━━━━━━━━━━━━━━\u001b[0m\u001b[37m\u001b[0m \u001b[1m1s\u001b[0m 3ms/step - loss: 273.0731 - root_mean_squared_error: 16.3551 - val_loss: 4253.7085 - val_root_mean_squared_error: 65.2205\n",
      "Epoch 68/100\n",
      "\u001b[1m192/192\u001b[0m \u001b[32m━━━━━━━━━━━━━━━━━━━━\u001b[0m\u001b[37m\u001b[0m \u001b[1m1s\u001b[0m 3ms/step - loss: 524.1492 - root_mean_squared_error: 22.8162 - val_loss: 3677.7844 - val_root_mean_squared_error: 60.6447\n",
      "Epoch 69/100\n",
      "\u001b[1m192/192\u001b[0m \u001b[32m━━━━━━━━━━━━━━━━━━━━\u001b[0m\u001b[37m\u001b[0m \u001b[1m1s\u001b[0m 3ms/step - loss: 336.8193 - root_mean_squared_error: 18.2571 - val_loss: 4800.7271 - val_root_mean_squared_error: 69.2873\n",
      "Epoch 70/100\n",
      "\u001b[1m192/192\u001b[0m \u001b[32m━━━━━━━━━━━━━━━━━━━━\u001b[0m\u001b[37m\u001b[0m \u001b[1m1s\u001b[0m 3ms/step - loss: 431.8284 - root_mean_squared_error: 20.6436 - val_loss: 4081.3223 - val_root_mean_squared_error: 63.8852\n",
      "Epoch 71/100\n",
      "\u001b[1m192/192\u001b[0m \u001b[32m━━━━━━━━━━━━━━━━━━━━\u001b[0m\u001b[37m\u001b[0m \u001b[1m1s\u001b[0m 3ms/step - loss: 402.1607 - root_mean_squared_error: 19.8497 - val_loss: 4118.4878 - val_root_mean_squared_error: 64.1754\n",
      "Epoch 72/100\n",
      "\u001b[1m192/192\u001b[0m \u001b[32m━━━━━━━━━━━━━━━━━━━━\u001b[0m\u001b[37m\u001b[0m \u001b[1m1s\u001b[0m 3ms/step - loss: 392.8554 - root_mean_squared_error: 19.7815 - val_loss: 4393.8647 - val_root_mean_squared_error: 66.2862\n",
      "Epoch 73/100\n",
      "\u001b[1m192/192\u001b[0m \u001b[32m━━━━━━━━━━━━━━━━━━━━\u001b[0m\u001b[37m\u001b[0m \u001b[1m1s\u001b[0m 3ms/step - loss: 443.7553 - root_mean_squared_error: 20.9917 - val_loss: 3477.5930 - val_root_mean_squared_error: 58.9711\n",
      "Epoch 74/100\n",
      "\u001b[1m192/192\u001b[0m \u001b[32m━━━━━━━━━━━━━━━━━━━━\u001b[0m\u001b[37m\u001b[0m \u001b[1m1s\u001b[0m 3ms/step - loss: 351.4796 - root_mean_squared_error: 18.6405 - val_loss: 3756.4487 - val_root_mean_squared_error: 61.2899\n",
      "Epoch 75/100\n",
      "\u001b[1m192/192\u001b[0m \u001b[32m━━━━━━━━━━━━━━━━━━━━\u001b[0m\u001b[37m\u001b[0m \u001b[1m1s\u001b[0m 3ms/step - loss: 451.6658 - root_mean_squared_error: 21.2081 - val_loss: 4379.5991 - val_root_mean_squared_error: 66.1785\n",
      "Epoch 76/100\n",
      "\u001b[1m192/192\u001b[0m \u001b[32m━━━━━━━━━━━━━━━━━━━━\u001b[0m\u001b[37m\u001b[0m \u001b[1m1s\u001b[0m 3ms/step - loss: 338.6254 - root_mean_squared_error: 18.2193 - val_loss: 4194.9766 - val_root_mean_squared_error: 64.7686\n",
      "Epoch 77/100\n",
      "\u001b[1m192/192\u001b[0m \u001b[32m━━━━━━━━━━━━━━━━━━━━\u001b[0m\u001b[37m\u001b[0m \u001b[1m1s\u001b[0m 3ms/step - loss: 413.0779 - root_mean_squared_error: 20.1921 - val_loss: 4372.3677 - val_root_mean_squared_error: 66.1239\n",
      "Epoch 78/100\n",
      "\u001b[1m192/192\u001b[0m \u001b[32m━━━━━━━━━━━━━━━━━━━━\u001b[0m\u001b[37m\u001b[0m \u001b[1m1s\u001b[0m 3ms/step - loss: 389.6822 - root_mean_squared_error: 19.5945 - val_loss: 3737.8796 - val_root_mean_squared_error: 61.1382\n",
      "Epoch 79/100\n",
      "\u001b[1m192/192\u001b[0m \u001b[32m━━━━━━━━━━━━━━━━━━━━\u001b[0m\u001b[37m\u001b[0m \u001b[1m1s\u001b[0m 3ms/step - loss: 432.6971 - root_mean_squared_error: 20.6502 - val_loss: 3682.0952 - val_root_mean_squared_error: 60.6803\n",
      "Epoch 80/100\n",
      "\u001b[1m192/192\u001b[0m \u001b[32m━━━━━━━━━━━━━━━━━━━━\u001b[0m\u001b[37m\u001b[0m \u001b[1m1s\u001b[0m 3ms/step - loss: 321.3470 - root_mean_squared_error: 17.8766 - val_loss: 4778.6123 - val_root_mean_squared_error: 69.1275\n",
      "Epoch 81/100\n",
      "\u001b[1m192/192\u001b[0m \u001b[32m━━━━━━━━━━━━━━━━━━━━\u001b[0m\u001b[37m\u001b[0m \u001b[1m1s\u001b[0m 3ms/step - loss: 364.8208 - root_mean_squared_error: 19.0608 - val_loss: 3136.2634 - val_root_mean_squared_error: 56.0024\n",
      "Epoch 82/100\n",
      "\u001b[1m192/192\u001b[0m \u001b[32m━━━━━━━━━━━━━━━━━━━━\u001b[0m\u001b[37m\u001b[0m \u001b[1m1s\u001b[0m 3ms/step - loss: 352.6763 - root_mean_squared_error: 18.6290 - val_loss: 4999.8545 - val_root_mean_squared_error: 70.7096\n",
      "Epoch 83/100\n",
      "\u001b[1m192/192\u001b[0m \u001b[32m━━━━━━━━━━━━━━━━━━━━\u001b[0m\u001b[37m\u001b[0m \u001b[1m1s\u001b[0m 3ms/step - loss: 375.9764 - root_mean_squared_error: 19.1558 - val_loss: 3327.2522 - val_root_mean_squared_error: 57.6823\n",
      "Epoch 84/100\n",
      "\u001b[1m192/192\u001b[0m \u001b[32m━━━━━━━━━━━━━━━━━━━━\u001b[0m\u001b[37m\u001b[0m \u001b[1m1s\u001b[0m 3ms/step - loss: 331.9475 - root_mean_squared_error: 18.0740 - val_loss: 2913.3149 - val_root_mean_squared_error: 53.9751\n",
      "Epoch 85/100\n",
      "\u001b[1m192/192\u001b[0m \u001b[32m━━━━━━━━━━━━━━━━━━━━\u001b[0m\u001b[37m\u001b[0m \u001b[1m1s\u001b[0m 3ms/step - loss: 355.3846 - root_mean_squared_error: 18.7184 - val_loss: 3853.9761 - val_root_mean_squared_error: 62.0804\n",
      "Epoch 86/100\n",
      "\u001b[1m192/192\u001b[0m \u001b[32m━━━━━━━━━━━━━━━━━━━━\u001b[0m\u001b[37m\u001b[0m \u001b[1m1s\u001b[0m 3ms/step - loss: 533.2230 - root_mean_squared_error: 22.7789 - val_loss: 3984.8105 - val_root_mean_squared_error: 63.1254\n",
      "Epoch 87/100\n",
      "\u001b[1m192/192\u001b[0m \u001b[32m━━━━━━━━━━━━━━━━━━━━\u001b[0m\u001b[37m\u001b[0m \u001b[1m1s\u001b[0m 3ms/step - loss: 493.4109 - root_mean_squared_error: 22.0568 - val_loss: 4298.0879 - val_root_mean_squared_error: 65.5598\n",
      "Epoch 88/100\n",
      "\u001b[1m192/192\u001b[0m \u001b[32m━━━━━━━━━━━━━━━━━━━━\u001b[0m\u001b[37m\u001b[0m \u001b[1m1s\u001b[0m 3ms/step - loss: 267.5919 - root_mean_squared_error: 16.3109 - val_loss: 3705.4768 - val_root_mean_squared_error: 60.8726\n",
      "Epoch 89/100\n",
      "\u001b[1m192/192\u001b[0m \u001b[32m━━━━━━━━━━━━━━━━━━━━\u001b[0m\u001b[37m\u001b[0m \u001b[1m1s\u001b[0m 3ms/step - loss: 411.2011 - root_mean_squared_error: 20.2257 - val_loss: 4070.3052 - val_root_mean_squared_error: 63.7989\n",
      "Epoch 90/100\n",
      "\u001b[1m192/192\u001b[0m \u001b[32m━━━━━━━━━━━━━━━━━━━━\u001b[0m\u001b[37m\u001b[0m \u001b[1m1s\u001b[0m 3ms/step - loss: 453.8419 - root_mean_squared_error: 21.2603 - val_loss: 3047.0713 - val_root_mean_squared_error: 55.2003\n",
      "Epoch 91/100\n",
      "\u001b[1m192/192\u001b[0m \u001b[32m━━━━━━━━━━━━━━━━━━━━\u001b[0m\u001b[37m\u001b[0m \u001b[1m1s\u001b[0m 3ms/step - loss: 479.6338 - root_mean_squared_error: 20.9857 - val_loss: 4256.7905 - val_root_mean_squared_error: 65.2441\n",
      "Epoch 92/100\n",
      "\u001b[1m192/192\u001b[0m \u001b[32m━━━━━━━━━━━━━━━━━━━━\u001b[0m\u001b[37m\u001b[0m \u001b[1m1s\u001b[0m 3ms/step - loss: 302.5582 - root_mean_squared_error: 17.3359 - val_loss: 3486.5215 - val_root_mean_squared_error: 59.0468\n",
      "Epoch 93/100\n",
      "\u001b[1m192/192\u001b[0m \u001b[32m━━━━━━━━━━━━━━━━━━━━\u001b[0m\u001b[37m\u001b[0m \u001b[1m1s\u001b[0m 3ms/step - loss: 305.3528 - root_mean_squared_error: 17.4506 - val_loss: 3762.7473 - val_root_mean_squared_error: 61.3412\n",
      "Epoch 94/100\n",
      "\u001b[1m192/192\u001b[0m \u001b[32m━━━━━━━━━━━━━━━━━━━━\u001b[0m\u001b[37m\u001b[0m \u001b[1m1s\u001b[0m 3ms/step - loss: 319.7028 - root_mean_squared_error: 17.6958 - val_loss: 4248.5996 - val_root_mean_squared_error: 65.1813\n",
      "Epoch 95/100\n",
      "\u001b[1m192/192\u001b[0m \u001b[32m━━━━━━━━━━━━━━━━━━━━\u001b[0m\u001b[37m\u001b[0m \u001b[1m1s\u001b[0m 3ms/step - loss: 309.8304 - root_mean_squared_error: 17.4608 - val_loss: 3970.8872 - val_root_mean_squared_error: 63.0150\n",
      "Epoch 96/100\n",
      "\u001b[1m192/192\u001b[0m \u001b[32m━━━━━━━━━━━━━━━━━━━━\u001b[0m\u001b[37m\u001b[0m \u001b[1m1s\u001b[0m 3ms/step - loss: 369.9936 - root_mean_squared_error: 19.0568 - val_loss: 3198.2144 - val_root_mean_squared_error: 56.5528\n",
      "Epoch 97/100\n",
      "\u001b[1m192/192\u001b[0m \u001b[32m━━━━━━━━━━━━━━━━━━━━\u001b[0m\u001b[37m\u001b[0m \u001b[1m1s\u001b[0m 3ms/step - loss: 350.2946 - root_mean_squared_error: 18.6482 - val_loss: 4239.2646 - val_root_mean_squared_error: 65.1096\n",
      "Epoch 98/100\n",
      "\u001b[1m192/192\u001b[0m \u001b[32m━━━━━━━━━━━━━━━━━━━━\u001b[0m\u001b[37m\u001b[0m \u001b[1m1s\u001b[0m 3ms/step - loss: 444.6155 - root_mean_squared_error: 20.5935 - val_loss: 4342.5698 - val_root_mean_squared_error: 65.8982\n",
      "Epoch 99/100\n",
      "\u001b[1m192/192\u001b[0m \u001b[32m━━━━━━━━━━━━━━━━━━━━\u001b[0m\u001b[37m\u001b[0m \u001b[1m1s\u001b[0m 3ms/step - loss: 276.2229 - root_mean_squared_error: 16.5342 - val_loss: 3163.9360 - val_root_mean_squared_error: 56.2489\n",
      "Epoch 100/100\n",
      "\u001b[1m192/192\u001b[0m \u001b[32m━━━━━━━━━━━━━━━━━━━━\u001b[0m\u001b[37m\u001b[0m \u001b[1m1s\u001b[0m 3ms/step - loss: 357.3617 - root_mean_squared_error: 18.8612 - val_loss: 3602.6677 - val_root_mean_squared_error: 60.0222\n",
      "\u001b[1m48/48\u001b[0m \u001b[32m━━━━━━━━━━━━━━━━━━━━\u001b[0m\u001b[37m\u001b[0m \u001b[1m0s\u001b[0m 2ms/step - loss: 2885.3911 - root_mean_squared_error: 52.7078\n",
      "Validation RMSE: 60.0222\n",
      "Scaled RMSE (exp(-RMSE/100)): 0.5486896584783431\n"
     ]
    }
   ],
   "source": [
    "model = keras.Sequential([\n",
    "    layers.Dense(256, activation='relu', input_shape=(X_train_scaled.shape[1],)),\n",
    "    layers.Dense(256, activation='relu'),\n",
    "    layers.Dense(128, activation='relu'),\n",
    "    layers.Dense(64, activation='relu'),\n",
    "    layers.Dense(32, activation='relu'),\n",
    "    layers.Dense(1)\n",
    "])\n",
    "\n",
    "model.compile(\n",
    "    optimizer='adam',\n",
    "    loss='mean_squared_error',\n",
    "    metrics=[tf.keras.metrics.RootMeanSquaredError()]\n",
    ")\n",
    "\n",
    "# Train the model\n",
    "history = model.fit(\n",
    "    X_train_scaled, y_train,\n",
    "    validation_data=(X_valid_scaled, y_valid),\n",
    "    epochs=100,\n",
    "    batch_size=32,\n",
    "    verbose=1\n",
    ")\n",
    "\n",
    "# Evaluate on validation set\n",
    "val_loss, val_rmse = model.evaluate(X_valid_scaled, y_valid)\n",
    "print(f\"Validation RMSE: {val_rmse:.4f}\")\n",
    "\n",
    "# Custom RMSE score\n",
    "custom_score = np.exp(-val_rmse / 100)\n",
    "print(f\"Scaled RMSE (exp(-RMSE/100)): {custom_score}\")"
   ]
  },
  {
   "cell_type": "markdown",
   "id": "8b9ef2e1",
   "metadata": {},
   "source": [
    "# Model Analysis"
   ]
  },
  {
   "cell_type": "code",
   "execution_count": 23,
   "id": "715ada55",
   "metadata": {},
   "outputs": [
    {
     "data": {
      "application/vnd.microsoft.datawrangler.viewer.v0+json": {
       "columns": [
        {
         "name": "index",
         "rawType": "int64",
         "type": "integer"
        },
        {
         "name": "Importance",
         "rawType": "float64",
         "type": "float"
        },
        {
         "name": "Feature",
         "rawType": "object",
         "type": "string"
        }
       ],
       "ref": "89a5e875-1628-42a3-99e8-f3d5b62a10bc",
       "rows": [
        [
         "13",
         "0.3150466366111731",
         "dist_center"
        ],
        [
         "12",
         "0.188537343557432",
         "lat_long"
        ],
        [
         "1",
         "0.17307207601904978",
         "longitude"
        ],
        [
         "0",
         "0.12852555580333758",
         "latitude"
        ],
        [
         "2",
         "0.08670386620912436",
         "day_of_year"
        ],
        [
         "9",
         "0.022555202057861653",
         "month_cos"
        ],
        [
         "11",
         "0.021316617429024496",
         "day_of_week_cos"
        ],
        [
         "7",
         "0.02060263328151404",
         "hour_cos"
        ],
        [
         "6",
         "0.016815619307443356",
         "hour_sin"
        ],
        [
         "4",
         "0.016120071201645166",
         "hour"
        ],
        [
         "3",
         "0.005423876179763299",
         "day_of_week"
        ],
        [
         "10",
         "0.002855368915255648",
         "day_of_week_sin"
        ],
        [
         "5",
         "0.0017555780087303568",
         "month"
        ],
        [
         "8",
         "0.0006695554186451338",
         "month_sin"
        ]
       ],
       "shape": {
        "columns": 2,
        "rows": 14
       }
      },
      "text/html": [
       "<div>\n",
       "<style scoped>\n",
       "    .dataframe tbody tr th:only-of-type {\n",
       "        vertical-align: middle;\n",
       "    }\n",
       "\n",
       "    .dataframe tbody tr th {\n",
       "        vertical-align: top;\n",
       "    }\n",
       "\n",
       "    .dataframe thead th {\n",
       "        text-align: right;\n",
       "    }\n",
       "</style>\n",
       "<table border=\"1\" class=\"dataframe\">\n",
       "  <thead>\n",
       "    <tr style=\"text-align: right;\">\n",
       "      <th></th>\n",
       "      <th>Importance</th>\n",
       "      <th>Feature</th>\n",
       "    </tr>\n",
       "  </thead>\n",
       "  <tbody>\n",
       "    <tr>\n",
       "      <th>13</th>\n",
       "      <td>0.315047</td>\n",
       "      <td>dist_center</td>\n",
       "    </tr>\n",
       "    <tr>\n",
       "      <th>12</th>\n",
       "      <td>0.188537</td>\n",
       "      <td>lat_long</td>\n",
       "    </tr>\n",
       "    <tr>\n",
       "      <th>1</th>\n",
       "      <td>0.173072</td>\n",
       "      <td>longitude</td>\n",
       "    </tr>\n",
       "    <tr>\n",
       "      <th>0</th>\n",
       "      <td>0.128526</td>\n",
       "      <td>latitude</td>\n",
       "    </tr>\n",
       "    <tr>\n",
       "      <th>2</th>\n",
       "      <td>0.086704</td>\n",
       "      <td>day_of_year</td>\n",
       "    </tr>\n",
       "    <tr>\n",
       "      <th>9</th>\n",
       "      <td>0.022555</td>\n",
       "      <td>month_cos</td>\n",
       "    </tr>\n",
       "    <tr>\n",
       "      <th>11</th>\n",
       "      <td>0.021317</td>\n",
       "      <td>day_of_week_cos</td>\n",
       "    </tr>\n",
       "    <tr>\n",
       "      <th>7</th>\n",
       "      <td>0.020603</td>\n",
       "      <td>hour_cos</td>\n",
       "    </tr>\n",
       "    <tr>\n",
       "      <th>6</th>\n",
       "      <td>0.016816</td>\n",
       "      <td>hour_sin</td>\n",
       "    </tr>\n",
       "    <tr>\n",
       "      <th>4</th>\n",
       "      <td>0.016120</td>\n",
       "      <td>hour</td>\n",
       "    </tr>\n",
       "    <tr>\n",
       "      <th>3</th>\n",
       "      <td>0.005424</td>\n",
       "      <td>day_of_week</td>\n",
       "    </tr>\n",
       "    <tr>\n",
       "      <th>10</th>\n",
       "      <td>0.002855</td>\n",
       "      <td>day_of_week_sin</td>\n",
       "    </tr>\n",
       "    <tr>\n",
       "      <th>5</th>\n",
       "      <td>0.001756</td>\n",
       "      <td>month</td>\n",
       "    </tr>\n",
       "    <tr>\n",
       "      <th>8</th>\n",
       "      <td>0.000670</td>\n",
       "      <td>month_sin</td>\n",
       "    </tr>\n",
       "  </tbody>\n",
       "</table>\n",
       "</div>"
      ],
      "text/plain": [
       "    Importance          Feature\n",
       "13    0.315047      dist_center\n",
       "12    0.188537         lat_long\n",
       "1     0.173072        longitude\n",
       "0     0.128526         latitude\n",
       "2     0.086704      day_of_year\n",
       "9     0.022555        month_cos\n",
       "11    0.021317  day_of_week_cos\n",
       "7     0.020603         hour_cos\n",
       "6     0.016816         hour_sin\n",
       "4     0.016120             hour\n",
       "3     0.005424      day_of_week\n",
       "10    0.002855  day_of_week_sin\n",
       "5     0.001756            month\n",
       "8     0.000670        month_sin"
      ]
     },
     "execution_count": 23,
     "metadata": {},
     "output_type": "execute_result"
    }
   ],
   "source": [
    "final_model = data_pipeline\n",
    "\n",
    "# Getting feature names\n",
    "features = list(preprocessor.get_feature_names_out())\n",
    "list_features = []\n",
    "\n",
    "for feature in features:\n",
    "    list_features.append(\"_\".join(feature.split(\"_\")[2:]))\n",
    "\n",
    "# assign feature importance\n",
    "imp = final_model.named_steps['model'].feature_importances_\n",
    "\n",
    "# to dataframe\n",
    "feature_imp = pd.DataFrame({\n",
    "    \"Importance\":imp,\n",
    "    \"Feature\":list_features\n",
    "}).sort_values(by=\"Importance\", ascending=False)\n",
    "feature_imp"
   ]
  },
  {
   "cell_type": "code",
   "execution_count": 101,
   "id": "156c3ae7",
   "metadata": {},
   "outputs": [
    {
     "data": {
      "application/vnd.microsoft.datawrangler.viewer.v0+json": {
       "columns": [
        {
         "name": "index",
         "rawType": "int64",
         "type": "integer"
        },
        {
         "name": "latitude",
         "rawType": "float64",
         "type": "float"
        },
        {
         "name": "longitude",
         "rawType": "float64",
         "type": "float"
        },
        {
         "name": "day_of_year",
         "rawType": "float64",
         "type": "float"
        },
        {
         "name": "hour_sin",
         "rawType": "float64",
         "type": "float"
        },
        {
         "name": "hour_cos",
         "rawType": "float64",
         "type": "float"
        },
        {
         "name": "month_sin",
         "rawType": "float64",
         "type": "float"
        },
        {
         "name": "month_cos",
         "rawType": "float64",
         "type": "float"
        },
        {
         "name": "day_of_week_sin",
         "rawType": "float64",
         "type": "float"
        },
        {
         "name": "day_of_week_cos",
         "rawType": "float64",
         "type": "float"
        },
        {
         "name": "lat_long",
         "rawType": "float64",
         "type": "float"
        },
        {
         "name": "dist_center",
         "rawType": "float64",
         "type": "float"
        }
       ],
       "ref": "e38fb332-ff97-41e8-9652-f2d1965cb10b",
       "rows": [
        [
         "0",
         "0.820066334991708",
         "-1.012081313018604",
         "-0.603448275862069",
         "0.2411809548974793",
         "0.8683475024126045",
         "0.7320508075688777",
         "-0.4226497308103739",
         "1.2469796037174672",
         "-0.6920214716300959",
         "-1.016608936004882",
         "1.4232992541465501"
        ],
        [
         "1",
         "1.0100331674958536",
         "-0.9830597877908748",
         "1.1724137931034482",
         "-1.2247448713915896",
         "0.4823619097949584",
         "0.3660254037844389",
         "1.732050807568878",
         "0.0",
         "0.3079785283699041",
         "-1.017706788656678",
         "1.3047617614997347"
        ],
        [
         "2",
         "1.0645936981757873",
         "-0.383122679596681",
         "1.0344827586206897",
         "-0.5176380902050417",
         "-0.2961771621865718",
         "0.3660254037844389",
         "1.732050807568878",
         "-0.5549581320873711",
         "-1.2469796037174672",
         "-0.19094970969541414",
         "-1.1847295419644945"
        ],
        [
         "3",
         "0.4402155887230511",
         "-0.255543608366639",
         "-0.603448275862069",
         "0.448287736084027",
         "0.7673269879789605",
         "0.7320508075688777",
         "-0.4226497308103739",
         "1.2469796037174672",
         "-0.6920214716300959",
         "-0.042098584907390164",
         "-1.7108980278141361"
        ],
        [
         "4",
         "-5.042454394693199",
         "-0.6830151548964314",
         "0.47413793103448276",
         "0.2411809548974793",
         "-0.2326730120210394",
         "-0.2679491924311224",
         "1.1547005383792524",
         "1.2469796037174672",
         "-0.6920214716300959",
         "0.011564530687362112",
         "0.3656221670273702"
        ]
       ],
       "shape": {
        "columns": 11,
        "rows": 5
       }
      },
      "text/html": [
       "<div>\n",
       "<style scoped>\n",
       "    .dataframe tbody tr th:only-of-type {\n",
       "        vertical-align: middle;\n",
       "    }\n",
       "\n",
       "    .dataframe tbody tr th {\n",
       "        vertical-align: top;\n",
       "    }\n",
       "\n",
       "    .dataframe thead th {\n",
       "        text-align: right;\n",
       "    }\n",
       "</style>\n",
       "<table border=\"1\" class=\"dataframe\">\n",
       "  <thead>\n",
       "    <tr style=\"text-align: right;\">\n",
       "      <th></th>\n",
       "      <th>latitude</th>\n",
       "      <th>longitude</th>\n",
       "      <th>day_of_year</th>\n",
       "      <th>hour_sin</th>\n",
       "      <th>hour_cos</th>\n",
       "      <th>month_sin</th>\n",
       "      <th>month_cos</th>\n",
       "      <th>day_of_week_sin</th>\n",
       "      <th>day_of_week_cos</th>\n",
       "      <th>lat_long</th>\n",
       "      <th>dist_center</th>\n",
       "    </tr>\n",
       "  </thead>\n",
       "  <tbody>\n",
       "    <tr>\n",
       "      <th>0</th>\n",
       "      <td>0.820066</td>\n",
       "      <td>-1.012081</td>\n",
       "      <td>-0.603448</td>\n",
       "      <td>0.241181</td>\n",
       "      <td>0.868348</td>\n",
       "      <td>0.732051</td>\n",
       "      <td>-0.422650</td>\n",
       "      <td>1.246980</td>\n",
       "      <td>-0.692021</td>\n",
       "      <td>-1.016609</td>\n",
       "      <td>1.423299</td>\n",
       "    </tr>\n",
       "    <tr>\n",
       "      <th>1</th>\n",
       "      <td>1.010033</td>\n",
       "      <td>-0.983060</td>\n",
       "      <td>1.172414</td>\n",
       "      <td>-1.224745</td>\n",
       "      <td>0.482362</td>\n",
       "      <td>0.366025</td>\n",
       "      <td>1.732051</td>\n",
       "      <td>0.000000</td>\n",
       "      <td>0.307979</td>\n",
       "      <td>-1.017707</td>\n",
       "      <td>1.304762</td>\n",
       "    </tr>\n",
       "    <tr>\n",
       "      <th>2</th>\n",
       "      <td>1.064594</td>\n",
       "      <td>-0.383123</td>\n",
       "      <td>1.034483</td>\n",
       "      <td>-0.517638</td>\n",
       "      <td>-0.296177</td>\n",
       "      <td>0.366025</td>\n",
       "      <td>1.732051</td>\n",
       "      <td>-0.554958</td>\n",
       "      <td>-1.246980</td>\n",
       "      <td>-0.190950</td>\n",
       "      <td>-1.184730</td>\n",
       "    </tr>\n",
       "    <tr>\n",
       "      <th>3</th>\n",
       "      <td>0.440216</td>\n",
       "      <td>-0.255544</td>\n",
       "      <td>-0.603448</td>\n",
       "      <td>0.448288</td>\n",
       "      <td>0.767327</td>\n",
       "      <td>0.732051</td>\n",
       "      <td>-0.422650</td>\n",
       "      <td>1.246980</td>\n",
       "      <td>-0.692021</td>\n",
       "      <td>-0.042099</td>\n",
       "      <td>-1.710898</td>\n",
       "    </tr>\n",
       "    <tr>\n",
       "      <th>4</th>\n",
       "      <td>-5.042454</td>\n",
       "      <td>-0.683015</td>\n",
       "      <td>0.474138</td>\n",
       "      <td>0.241181</td>\n",
       "      <td>-0.232673</td>\n",
       "      <td>-0.267949</td>\n",
       "      <td>1.154701</td>\n",
       "      <td>1.246980</td>\n",
       "      <td>-0.692021</td>\n",
       "      <td>0.011565</td>\n",
       "      <td>0.365622</td>\n",
       "    </tr>\n",
       "  </tbody>\n",
       "</table>\n",
       "</div>"
      ],
      "text/plain": [
       "   latitude  longitude  day_of_year  hour_sin  hour_cos  month_sin  month_cos  \\\n",
       "0  0.820066  -1.012081    -0.603448  0.241181  0.868348   0.732051  -0.422650   \n",
       "1  1.010033  -0.983060     1.172414 -1.224745  0.482362   0.366025   1.732051   \n",
       "2  1.064594  -0.383123     1.034483 -0.517638 -0.296177   0.366025   1.732051   \n",
       "3  0.440216  -0.255544    -0.603448  0.448288  0.767327   0.732051  -0.422650   \n",
       "4 -5.042454  -0.683015     0.474138  0.241181 -0.232673  -0.267949   1.154701   \n",
       "\n",
       "   day_of_week_sin  day_of_week_cos  lat_long  dist_center  \n",
       "0         1.246980        -0.692021 -1.016609     1.423299  \n",
       "1         0.000000         0.307979 -1.017707     1.304762  \n",
       "2        -0.554958        -1.246980 -0.190950    -1.184730  \n",
       "3         1.246980        -0.692021 -0.042099    -1.710898  \n",
       "4         1.246980        -0.692021  0.011565     0.365622  "
      ]
     },
     "execution_count": 101,
     "metadata": {},
     "output_type": "execute_result"
    }
   ],
   "source": [
    "test_transformed = pd.DataFrame(\n",
    "    final_model[0].transform(X_valid)\n",
    "    , columns = list_features)\n",
    "test_transformed.head()"
   ]
  },
  {
   "cell_type": "code",
   "execution_count": 102,
   "id": "66241bfe",
   "metadata": {},
   "outputs": [
    {
     "name": "stderr",
     "output_type": "stream",
     "text": [
      "PermutationExplainer explainer: 1531it [02:01, 11.95it/s]                          \n"
     ]
    },
    {
     "data": {
      "image/png": "[encoded data removed]",
      "text/plain": [
       "<Figure size 800x590 with 2 Axes>"
      ]
     },
     "metadata": {},
     "output_type": "display_data"
    }
   ],
   "source": [
    "# Explainable AI Global\n",
    "\n",
    "# explainer\n",
    "explainer = shap.Explainer(\n",
    "    final_model[-1].predict,\n",
    "    final_model[0].transform(X_valid)\n",
    ")\n",
    "\n",
    "shap_values = explainer(test_transformed)\n",
    "shap.summary_plot(shap_values, test_transformed)"
   ]
  },
  {
   "cell_type": "markdown",
   "id": "be73e0d3",
   "metadata": {},
   "source": [
    "# Error Analysis"
   ]
  },
  {
   "cell_type": "code",
   "execution_count": 70,
   "id": "62055cf3",
   "metadata": {},
   "outputs": [],
   "source": [
    "model_tocheck = data_pipeline # put model to check the miss predictions\n",
    "y_pred = model_tocheck.predict(X_valid)\n",
    "errors = y_valid - y_pred"
   ]
  },
  {
   "cell_type": "code",
   "execution_count": 103,
   "id": "0ba7e16b",
   "metadata": {},
   "outputs": [
    {
     "data": {
      "image/png": "[encoded data removed]",
      "text/plain": [
       "<Figure size 640x480 with 1 Axes>"
      ]
     },
     "metadata": {},
     "output_type": "display_data"
    },
    {
     "data": {
      "application/vnd.microsoft.datawrangler.viewer.v0+json": {
       "columns": [
        {
         "name": "index",
         "rawType": "int64",
         "type": "integer"
        },
        {
         "name": "latitude",
         "rawType": "float64",
         "type": "float"
        },
        {
         "name": "longitude",
         "rawType": "float64",
         "type": "float"
        },
        {
         "name": "day_of_year",
         "rawType": "int64",
         "type": "integer"
        },
        {
         "name": "hour_sin",
         "rawType": "float64",
         "type": "float"
        },
        {
         "name": "hour_cos",
         "rawType": "float64",
         "type": "float"
        },
        {
         "name": "month_sin",
         "rawType": "float64",
         "type": "float"
        },
        {
         "name": "month_cos",
         "rawType": "float64",
         "type": "float"
        },
        {
         "name": "day_of_week_sin",
         "rawType": "float64",
         "type": "float"
        },
        {
         "name": "day_of_week_cos",
         "rawType": "float64",
         "type": "float"
        },
        {
         "name": "lat_long",
         "rawType": "float64",
         "type": "float"
        },
        {
         "name": "dist_center",
         "rawType": "float64",
         "type": "float"
        },
        {
         "name": "error",
         "rawType": "float64",
         "type": "float"
        }
       ],
       "ref": "21d4328c-3c87-4a61-b8f8-25b634635392",
       "rows": [
        [
         "6874",
         "-25.246",
         "-57.647",
         "276",
         "0.49999999999999994",
         "-0.8660254037844387",
         "-0.8660254037844386",
         "0.5000000000000001",
         "0.9749279121818236",
         "-0.22252093395631434",
         "1455.3561619999998",
         "106.45397210472859",
         "90.83889320433718"
        ],
        [
         "3603",
         "16.502",
         "80.607",
         "325",
         "0.258819045102521",
         "-0.9659258262890682",
         "-0.5000000000000004",
         "0.8660254037844384",
         "-0.433883739117558",
         "-0.9009688679024191",
         "1330.176714",
         "50.814966132230296",
         "-64.28905159417533"
        ],
        [
         "6133",
         "53.693",
         "19.934",
         "5",
         "0.258819045102521",
         "-0.9659258262890682",
         "0.49999999999999994",
         "0.8660254037844387",
         "0.43388373911755823",
         "-0.900968867902419",
         "1070.316262",
         "25.008227400261706",
         "-67.2641200673163"
        ],
        [
         "3776",
         "53.4",
         "18.488",
         "366",
         "-0.9659258262890684",
         "0.2588190451025203",
         "-2.4492935982947064e-16",
         "1.0",
         "0.43388373911755823",
         "-0.900968867902419",
         "987.2592",
         "25.499332345174274",
         "58.83475491150833"
        ],
        [
         "888",
         "13.169",
         "80.222",
         "289",
         "-0.9659258262890684",
         "0.2588190451025203",
         "-0.8660254037844386",
         "0.5000000000000001",
         "-0.7818314824680299",
         "0.6234898018587334",
         "1056.443518",
         "51.56238671119344",
         "-193.8697703413121"
        ],
        [
         "6049",
         "25.618",
         "85.18",
         "304",
         "0.9659258262890683",
         "0.25881904510252074",
         "-0.8660254037844386",
         "0.5000000000000001",
         "0.0",
         "1.0",
         "2182.14124",
         "53.37252588437528",
         "45.76980846405698"
        ],
        [
         "4657",
         "-0.191",
         "-78.542",
         "328",
         "-0.9659258262890684",
         "0.2588190451025203",
         "-0.5000000000000004",
         "0.8660254037844384",
         "0.9749279121818236",
         "-0.22252093395631434",
         "15.001522000000001",
         "115.27199241370701",
         "-20.692119691284454"
        ],
        [
         "7598",
         "51.985",
         "14.691",
         "3",
         "0.258819045102521",
         "-0.9659258262890682",
         "0.49999999999999994",
         "0.8660254037844387",
         "0.0",
         "1.0",
         "763.711635",
         "26.64029629781498",
         "-27.385469599496837"
        ],
        [
         "5905",
         "28.622",
         "77.212",
         "214",
         "-0.2588190451025208",
         "-0.9659258262890683",
         "-0.8660254037844385",
         "-0.5000000000000004",
         "0.7818314824680298",
         "0.6234898018587336",
         "2209.961864",
         "45.15329958966674",
         "-49.89196017353771"
        ],
        [
         "5203",
         "34.669",
         "-92.348",
         "150",
         "0.49999999999999994",
         "-0.8660254037844387",
         "0.49999999999999994",
         "-0.8660254037844387",
         "0.7818314824680298",
         "0.6234898018587336",
         "-3201.612812",
         "124.5559468482263",
         "20.3684566223902"
        ],
        [
         "1367",
         "28.02",
         "-15.406",
         "43",
         "0.7071067811865476",
         "0.7071067811865476",
         "0.8660254037844386",
         "0.5000000000000001",
         "0.0",
         "1.0",
         "-431.67612",
         "47.73969667410684",
         "-31.156274749279895"
        ],
        [
         "4528",
         "28.781",
         "77.167",
         "304",
         "0.7071067811865476",
         "0.7071067811865476",
         "-0.8660254037844386",
         "0.5000000000000001",
         "0.0",
         "1.0",
         "2220.943427",
         "45.097189476536954",
         "76.62100544607827"
        ],
        [
         "6064",
         "29.671",
         "119.062",
         "366",
         "-1.0",
         "-1.8369701987210297e-16",
         "-2.4492935982947064e-16",
         "1.0",
         "0.43388373911755823",
         "-0.900968867902419",
         "3532.6886019999997",
         "86.91337877182703",
         "-23.303142679686786"
        ],
        [
         "5726",
         "28.585",
         "77.279",
         "133",
         "-0.2588190451025208",
         "-0.9659258262890683",
         "0.49999999999999994",
         "-0.8660254037844387",
         "-0.7818314824680299",
         "0.6234898018587334",
         "2209.020215",
         "45.22281064534105",
         "-20.77787252029789"
        ],
        [
         "6077",
         "26.168",
         "85.409",
         "289",
         "-1.0",
         "-1.8369701987210297e-16",
         "-0.8660254037844386",
         "0.5000000000000001",
         "-0.7818314824680299",
         "0.6234898018587334",
         "2234.982712",
         "53.53841195270741",
         "35.59655562576401"
        ],
        [
         "6900",
         "25.281",
         "121.492",
         "53",
         "0.7071067811865476",
         "0.7071067811865476",
         "0.8660254037844386",
         "0.5000000000000001",
         "0.43388373911755823",
         "-0.900968867902419",
         "3071.439252",
         "89.5590654527415",
         "-38.17390415363779"
        ],
        [
         "1549",
         "47.883",
         "106.841",
         "73",
         "0.25881904510252074",
         "0.9659258262890683",
         "1.0",
         "6.123233995736766e-17",
         "0.43388373911755823",
         "-0.900968867902419",
         "5115.867603",
         "76.3585067698196",
         "83.24368730006405"
        ],
        [
         "5771",
         "28.731",
         "77.317",
         "53",
         "0.9659258262890683",
         "0.25881904510252074",
         "0.8660254037844386",
         "0.5000000000000001",
         "0.43388373911755823",
         "-0.900968867902419",
         "2221.394727",
         "45.25029380067524",
         "-175.37429222389366"
        ],
        [
         "2190",
         "27.538",
         "77.681",
         "304",
         "0.9659258262890683",
         "0.25881904510252074",
         "-0.8660254037844386",
         "0.5000000000000001",
         "0.0",
         "1.0",
         "2139.179378",
         "45.71144124208142",
         "-55.84721266499875"
        ],
        [
         "3369",
         "23.571",
         "87.294",
         "304",
         "0.8660254037844386",
         "0.5000000000000001",
         "-0.8660254037844386",
         "0.5000000000000001",
         "0.0",
         "1.0",
         "2057.606874",
         "55.74088443773685",
         "-30.051281361291863"
        ],
        [
         "6352",
         "38.274",
         "-119.232",
         "182",
         "0.25881904510252074",
         "0.9659258262890683",
         "1.2246467991473532e-16",
         "-1.0",
         "0.7818314824680298",
         "0.6234898018587336",
         "-4563.485568",
         "151.5435386085144",
         "40.156339027519536"
        ],
        [
         "5956",
         "37.995",
         "-119.098",
         "177",
         "-0.2588190451025208",
         "-0.9659258262890683",
         "1.2246467991473532e-16",
         "-1.0",
         "-0.9749279121818236",
         "-0.2225209339563146",
         "-4525.12851",
         "151.39814426492603",
         "35.64113775563719"
        ],
        [
         "5010",
         "26.495",
         "80.193",
         "329",
         "-0.8660254037844385",
         "-0.5000000000000004",
         "-0.5000000000000004",
         "0.8660254037844384",
         "0.0",
         "1.0",
         "2124.713535",
         "48.31788068207233",
         "-40.43927319218073"
        ],
        [
         "7215",
         "29.204",
         "88.937",
         "175",
         "0.7071067811865476",
         "0.7071067811865476",
         "1.2246467991473532e-16",
         "-1.0",
         "0.7818314824680298",
         "0.6234898018587336",
         "2597.316148",
         "56.82348899060555",
         "-46.103916986623396"
        ],
        [
         "3353",
         "52.44",
         "20.934",
         "7",
         "-0.8660254037844386",
         "0.5000000000000001",
         "0.49999999999999994",
         "0.8660254037844387",
         "-0.9749279121818236",
         "-0.2225209339563146",
         "1097.77896",
         "23.42751831281463",
         "68.10308720824254"
        ],
        [
         "3151",
         "-1.929",
         "30.101",
         "135",
         "0.7071067811865476",
         "0.7071067811865476",
         "0.49999999999999994",
         "-0.8660254037844387",
         "0.7818314824680298",
         "0.6234898018587336",
         "-58.064829",
         "33.87914975966303",
         "42.28564999142234"
        ],
        [
         "1645",
         "39.776",
         "-123.27",
         "246",
         "-0.5000000000000004",
         "0.8660254037844384",
         "-1.0",
         "-1.8369701987210297e-16",
         "-0.433883739117558",
         "-0.9009688679024191",
         "-4903.18752",
         "155.64694533299456",
         "24.093741264676474"
        ],
        [
         "1259",
         "25.916",
         "114.941",
         "366",
         "-1.0",
         "-1.8369701987210297e-16",
         "-2.4492935982947064e-16",
         "1.0",
         "0.43388373911755823",
         "-0.900968867902419",
         "2978.8109560000003",
         "82.97920903364034",
         "-23.158513666699015"
        ],
        [
         "2206",
         "19.355",
         "-99.652",
         "31",
         "-1.0",
         "-1.8369701987210297e-16",
         "0.49999999999999994",
         "0.8660254037844387",
         "0.7818314824680298",
         "0.6234898018587336",
         "-1928.76446",
         "132.4231380478622",
         "81.53210130967614"
        ],
        [
         "6530",
         "28.698",
         "77.063",
         "132",
         "0.7071067811865476",
         "-0.7071067811865475",
         "0.49999999999999994",
         "-0.8660254037844387",
         "-0.9749279121818236",
         "-0.2225209339563146",
         "2211.553974",
         "44.99924185024216",
         "-25.42774218642458"
        ],
        [
         "598",
         "25.239",
         "86.98",
         "304",
         "0.8660254037844386",
         "0.5000000000000001",
         "-0.8660254037844386",
         "0.5000000000000001",
         "0.0",
         "1.0",
         "2195.2882200000004",
         "55.20482742170461",
         "-48.86095216856123"
        ],
        [
         "1370",
         "-1.282",
         "36.778",
         "257",
         "0.0",
         "1.0",
         "-1.0",
         "-1.8369701987210297e-16",
         "-0.433883739117558",
         "-0.9009688679024191",
         "-47.149395999999996",
         "33.48610758606855",
         "-22.698339370696903"
        ],
        [
         "2225",
         "-25.587",
         "27.098",
         "141",
         "-0.7071067811865471",
         "-0.7071067811865479",
         "0.49999999999999994",
         "-0.8660254037844387",
         "-0.7818314824680299",
         "0.6234898018587334",
         "-693.3565259999999",
         "57.6974633069602",
         "-25.13681791617939"
        ],
        [
         "6751",
         "35.5945",
         "76.8685",
         "214",
         "-0.2588190451025208",
         "-0.9659258262890683",
         "-0.8660254037844385",
         "-0.5000000000000004",
         "0.7818314824680298",
         "0.6234898018587336",
         "2736.0958232499997",
         "44.84519724166727",
         "-20.333471459840865"
        ],
        [
         "723",
         "40.947",
         "107.573",
         "366",
         "-0.9659258262890684",
         "0.2588190451025203",
         "-2.4492935982947064e-16",
         "1.0",
         "0.43388373911755823",
         "-0.900968867902419",
         "4404.791631",
         "75.93859512862007",
         "-22.42815152877661"
        ],
        [
         "4005",
         "36.612",
         "116.982",
         "221",
         "-0.4999999999999997",
         "-0.8660254037844388",
         "-0.8660254037844385",
         "-0.5000000000000004",
         "0.0",
         "1.0",
         "4282.944984",
         "84.93669198148228",
         "25.571586754024395"
        ],
        [
         "7080",
         "28.62",
         "77.21",
         "130",
         "1.2246467991473532e-16",
         "-1.0",
         "0.49999999999999994",
         "-0.8660254037844387",
         "0.43388373911755823",
         "-0.900968867902419",
         "2209.7502",
         "45.151449470196894",
         "-44.097509963358675"
        ],
        [
         "6440",
         "11.669",
         "78.104",
         "276",
         "-0.7071067811865471",
         "-0.7071067811865479",
         "-0.8660254037844386",
         "0.5000000000000001",
         "0.0",
         "1.0",
         "911.395576",
         "50.18016468098079",
         "-21.267990310287352"
        ],
        [
         "1988",
         "38.803",
         "-123.038",
         "86",
         "-0.9659258262890684",
         "0.2588190451025203",
         "1.0",
         "6.123233995736766e-17",
         "0.43388373911755823",
         "-0.900968867902419",
         "-4774.243514",
         "155.3688894848162",
         "28.96783760369775"
        ],
        [
         "6263",
         "28.592",
         "77.104",
         "304",
         "0.7071067811865476",
         "0.7071067811865476",
         "-0.8660254037844386",
         "0.5000000000000001",
         "0.0",
         "1.0",
         "2204.5575679999997",
         "45.0477669576884",
         "45.681322685549475"
        ],
        [
         "4620",
         "51.108",
         "20.878",
         "1",
         "0.25881904510252074",
         "0.9659258262890683",
         "0.49999999999999994",
         "0.8660254037844387",
         "0.9749279121818236",
         "-0.22252093395631434",
         "1067.032824",
         "22.296426459487897",
         "-77.62653942069784"
        ],
        [
         "3008",
         "16.159",
         "77.328",
         "289",
         "1.2246467991473532e-16",
         "-1.0",
         "-0.8660254037844386",
         "0.5000000000000001",
         "-0.7818314824680299",
         "0.6234898018587334",
         "1249.543152",
         "47.81191481337634",
         "-47.253211751490205"
        ],
        [
         "6579",
         "52.406",
         "15.562",
         "3",
         "-0.4999999999999997",
         "-0.8660254037844388",
         "0.49999999999999994",
         "0.8660254037844387",
         "0.9749279121818236",
         "-0.22252093395631434",
         "815.5421719999999",
         "26.402724061954704",
         "-65.1568649306531"
        ],
        [
         "789",
         "25.86",
         "85.776",
         "304",
         "0.8660254037844386",
         "0.5000000000000001",
         "-0.8660254037844386",
         "0.5000000000000001",
         "0.0",
         "1.0",
         "2218.16736",
         "53.936871318722915",
         "172.59374653958702"
        ],
        [
         "6827",
         "-25.587",
         "27.098",
         "141",
         "-0.9659258262890684",
         "0.2588190451025203",
         "0.49999999999999994",
         "-0.8660254037844387",
         "-0.7818314824680299",
         "0.6234898018587334",
         "-693.3565259999999",
         "57.6974633069602",
         "-23.4522522984635"
        ],
        [
         "5747",
         "37.367",
         "117.919",
         "221",
         "-0.4999999999999997",
         "-0.8660254037844388",
         "-0.8660254037844385",
         "-0.5000000000000004",
         "0.0",
         "1.0",
         "4406.279272999999",
         "85.91711110375164",
         "27.420793403606815"
        ],
        [
         "736",
         "37.783",
         "120.751",
         "311",
         "-0.8660254037844385",
         "-0.5000000000000004",
         "-0.5000000000000004",
         "0.8660254037844384",
         "0.43388373911755823",
         "-0.900968867902419",
         "4562.335033",
         "88.77018928104333",
         "-38.80395206306622"
        ],
        [
         "2159",
         "22.55",
         "88.405",
         "84",
         "0.49999999999999994",
         "0.8660254037844387",
         "1.0",
         "6.123233995736766e-17",
         "-0.433883739117558",
         "-0.9009688679024191",
         "1993.53275",
         "56.99801290415824",
         "58.84218072793572"
        ],
        [
         "6082",
         "47.162",
         "-120.975",
         "242",
         "-0.25881904510252157",
         "0.9659258262890681",
         "-0.8660254037844385",
         "-0.5000000000000004",
         "-0.9749279121818236",
         "-0.2225209339563146",
         "-5705.422949999999",
         "153.91177441930293",
         "-23.726595098139597"
        ],
        [
         "2494",
         "38.127",
         "-4.881",
         "2",
         "0.25881904510252074",
         "0.9659258262890683",
         "0.49999999999999994",
         "0.8660254037844387",
         "0.7818314824680298",
         "0.6234898018587336",
         "-186.09788700000001",
         "37.579637423975726",
         "-24.31301015555864"
        ]
       ],
       "shape": {
        "columns": 12,
        "rows": 153
       }
      },
      "text/html": [
       "<div>\n",
       "<style scoped>\n",
       "    .dataframe tbody tr th:only-of-type {\n",
       "        vertical-align: middle;\n",
       "    }\n",
       "\n",
       "    .dataframe tbody tr th {\n",
       "        vertical-align: top;\n",
       "    }\n",
       "\n",
       "    .dataframe thead th {\n",
       "        text-align: right;\n",
       "    }\n",
       "</style>\n",
       "<table border=\"1\" class=\"dataframe\">\n",
       "  <thead>\n",
       "    <tr style=\"text-align: right;\">\n",
       "      <th></th>\n",
       "      <th>latitude</th>\n",
       "      <th>longitude</th>\n",
       "      <th>day_of_year</th>\n",
       "      <th>hour_sin</th>\n",
       "      <th>hour_cos</th>\n",
       "      <th>month_sin</th>\n",
       "      <th>month_cos</th>\n",
       "      <th>day_of_week_sin</th>\n",
       "      <th>day_of_week_cos</th>\n",
       "      <th>lat_long</th>\n",
       "      <th>dist_center</th>\n",
       "      <th>error</th>\n",
       "    </tr>\n",
       "  </thead>\n",
       "  <tbody>\n",
       "    <tr>\n",
       "      <th>6874</th>\n",
       "      <td>-25.246</td>\n",
       "      <td>-57.647</td>\n",
       "      <td>276</td>\n",
       "      <td>0.500000</td>\n",
       "      <td>-0.866025</td>\n",
       "      <td>-8.660254e-01</td>\n",
       "      <td>0.500000</td>\n",
       "      <td>0.974928</td>\n",
       "      <td>-0.222521</td>\n",
       "      <td>1455.356162</td>\n",
       "      <td>106.453972</td>\n",
       "      <td>90.838893</td>\n",
       "    </tr>\n",
       "    <tr>\n",
       "      <th>3603</th>\n",
       "      <td>16.502</td>\n",
       "      <td>80.607</td>\n",
       "      <td>325</td>\n",
       "      <td>0.258819</td>\n",
       "      <td>-0.965926</td>\n",
       "      <td>-5.000000e-01</td>\n",
       "      <td>0.866025</td>\n",
       "      <td>-0.433884</td>\n",
       "      <td>-0.900969</td>\n",
       "      <td>1330.176714</td>\n",
       "      <td>50.814966</td>\n",
       "      <td>-64.289052</td>\n",
       "    </tr>\n",
       "    <tr>\n",
       "      <th>6133</th>\n",
       "      <td>53.693</td>\n",
       "      <td>19.934</td>\n",
       "      <td>5</td>\n",
       "      <td>0.258819</td>\n",
       "      <td>-0.965926</td>\n",
       "      <td>5.000000e-01</td>\n",
       "      <td>0.866025</td>\n",
       "      <td>0.433884</td>\n",
       "      <td>-0.900969</td>\n",
       "      <td>1070.316262</td>\n",
       "      <td>25.008227</td>\n",
       "      <td>-67.264120</td>\n",
       "    </tr>\n",
       "    <tr>\n",
       "      <th>3776</th>\n",
       "      <td>53.400</td>\n",
       "      <td>18.488</td>\n",
       "      <td>366</td>\n",
       "      <td>-0.965926</td>\n",
       "      <td>0.258819</td>\n",
       "      <td>-2.449294e-16</td>\n",
       "      <td>1.000000</td>\n",
       "      <td>0.433884</td>\n",
       "      <td>-0.900969</td>\n",
       "      <td>987.259200</td>\n",
       "      <td>25.499332</td>\n",
       "      <td>58.834755</td>\n",
       "    </tr>\n",
       "    <tr>\n",
       "      <th>888</th>\n",
       "      <td>13.169</td>\n",
       "      <td>80.222</td>\n",
       "      <td>289</td>\n",
       "      <td>-0.965926</td>\n",
       "      <td>0.258819</td>\n",
       "      <td>-8.660254e-01</td>\n",
       "      <td>0.500000</td>\n",
       "      <td>-0.781831</td>\n",
       "      <td>0.623490</td>\n",
       "      <td>1056.443518</td>\n",
       "      <td>51.562387</td>\n",
       "      <td>-193.869770</td>\n",
       "    </tr>\n",
       "    <tr>\n",
       "      <th>...</th>\n",
       "      <td>...</td>\n",
       "      <td>...</td>\n",
       "      <td>...</td>\n",
       "      <td>...</td>\n",
       "      <td>...</td>\n",
       "      <td>...</td>\n",
       "      <td>...</td>\n",
       "      <td>...</td>\n",
       "      <td>...</td>\n",
       "      <td>...</td>\n",
       "      <td>...</td>\n",
       "      <td>...</td>\n",
       "    </tr>\n",
       "    <tr>\n",
       "      <th>7226</th>\n",
       "      <td>21.061</td>\n",
       "      <td>105.824</td>\n",
       "      <td>314</td>\n",
       "      <td>-0.965926</td>\n",
       "      <td>0.258819</td>\n",
       "      <td>-5.000000e-01</td>\n",
       "      <td>0.866025</td>\n",
       "      <td>0.974928</td>\n",
       "      <td>-0.222521</td>\n",
       "      <td>2228.759264</td>\n",
       "      <td>74.438512</td>\n",
       "      <td>-52.855195</td>\n",
       "    </tr>\n",
       "    <tr>\n",
       "      <th>7624</th>\n",
       "      <td>36.821</td>\n",
       "      <td>117.860</td>\n",
       "      <td>221</td>\n",
       "      <td>-0.500000</td>\n",
       "      <td>-0.866025</td>\n",
       "      <td>-8.660254e-01</td>\n",
       "      <td>-0.500000</td>\n",
       "      <td>0.000000</td>\n",
       "      <td>1.000000</td>\n",
       "      <td>4339.723060</td>\n",
       "      <td>85.825109</td>\n",
       "      <td>33.420793</td>\n",
       "    </tr>\n",
       "    <tr>\n",
       "      <th>5156</th>\n",
       "      <td>-25.587</td>\n",
       "      <td>27.098</td>\n",
       "      <td>94</td>\n",
       "      <td>-0.707107</td>\n",
       "      <td>-0.707107</td>\n",
       "      <td>8.660254e-01</td>\n",
       "      <td>-0.500000</td>\n",
       "      <td>0.781831</td>\n",
       "      <td>0.623490</td>\n",
       "      <td>-693.356526</td>\n",
       "      <td>57.697463</td>\n",
       "      <td>-23.859477</td>\n",
       "    </tr>\n",
       "    <tr>\n",
       "      <th>279</th>\n",
       "      <td>36.582</td>\n",
       "      <td>117.102</td>\n",
       "      <td>221</td>\n",
       "      <td>-0.500000</td>\n",
       "      <td>-0.866025</td>\n",
       "      <td>-8.660254e-01</td>\n",
       "      <td>-0.500000</td>\n",
       "      <td>0.000000</td>\n",
       "      <td>1.000000</td>\n",
       "      <td>4283.825364</td>\n",
       "      <td>85.054845</td>\n",
       "      <td>25.571587</td>\n",
       "    </tr>\n",
       "    <tr>\n",
       "      <th>4800</th>\n",
       "      <td>23.779</td>\n",
       "      <td>79.492</td>\n",
       "      <td>304</td>\n",
       "      <td>0.965926</td>\n",
       "      <td>0.258819</td>\n",
       "      <td>-8.660254e-01</td>\n",
       "      <td>0.500000</td>\n",
       "      <td>0.000000</td>\n",
       "      <td>1.000000</td>\n",
       "      <td>1890.240268</td>\n",
       "      <td>48.004725</td>\n",
       "      <td>32.806850</td>\n",
       "    </tr>\n",
       "  </tbody>\n",
       "</table>\n",
       "<p>153 rows × 12 columns</p>\n",
       "</div>"
      ],
      "text/plain": [
       "      latitude  longitude  day_of_year  hour_sin  hour_cos     month_sin  \\\n",
       "6874   -25.246    -57.647          276  0.500000 -0.866025 -8.660254e-01   \n",
       "3603    16.502     80.607          325  0.258819 -0.965926 -5.000000e-01   \n",
       "6133    53.693     19.934            5  0.258819 -0.965926  5.000000e-01   \n",
       "3776    53.400     18.488          366 -0.965926  0.258819 -2.449294e-16   \n",
       "888     13.169     80.222          289 -0.965926  0.258819 -8.660254e-01   \n",
       "...        ...        ...          ...       ...       ...           ...   \n",
       "7226    21.061    105.824          314 -0.965926  0.258819 -5.000000e-01   \n",
       "7624    36.821    117.860          221 -0.500000 -0.866025 -8.660254e-01   \n",
       "5156   -25.587     27.098           94 -0.707107 -0.707107  8.660254e-01   \n",
       "279     36.582    117.102          221 -0.500000 -0.866025 -8.660254e-01   \n",
       "4800    23.779     79.492          304  0.965926  0.258819 -8.660254e-01   \n",
       "\n",
       "      month_cos  day_of_week_sin  day_of_week_cos     lat_long  dist_center  \\\n",
       "6874   0.500000         0.974928        -0.222521  1455.356162   106.453972   \n",
       "3603   0.866025        -0.433884        -0.900969  1330.176714    50.814966   \n",
       "6133   0.866025         0.433884        -0.900969  1070.316262    25.008227   \n",
       "3776   1.000000         0.433884        -0.900969   987.259200    25.499332   \n",
       "888    0.500000        -0.781831         0.623490  1056.443518    51.562387   \n",
       "...         ...              ...              ...          ...          ...   \n",
       "7226   0.866025         0.974928        -0.222521  2228.759264    74.438512   \n",
       "7624  -0.500000         0.000000         1.000000  4339.723060    85.825109   \n",
       "5156  -0.500000         0.781831         0.623490  -693.356526    57.697463   \n",
       "279   -0.500000         0.000000         1.000000  4283.825364    85.054845   \n",
       "4800   0.500000         0.000000         1.000000  1890.240268    48.004725   \n",
       "\n",
       "           error  \n",
       "6874   90.838893  \n",
       "3603  -64.289052  \n",
       "6133  -67.264120  \n",
       "3776   58.834755  \n",
       "888  -193.869770  \n",
       "...          ...  \n",
       "7226  -52.855195  \n",
       "7624   33.420793  \n",
       "5156  -23.859477  \n",
       "279    25.571587  \n",
       "4800   32.806850  \n",
       "\n",
       "[153 rows x 12 columns]"
      ]
     },
     "execution_count": 103,
     "metadata": {},
     "output_type": "execute_result"
    }
   ],
   "source": [
    "# Visualize errors\n",
    "import matplotlib.pyplot as plt\n",
    "plt.hist(errors, bins=50)\n",
    "plt.xlabel(\"Prediction Error\")\n",
    "plt.ylabel(\"Frequency\")\n",
    "plt.title(\"Error Distribution\")\n",
    "plt.show()\n",
    "\n",
    "# Analyze errors by feature\n",
    "error_df = X_valid.copy()\n",
    "error_df['error'] = errors\n",
    "\n",
    "# # Example: Check error by hour\n",
    "# error_by_hour = error_df.groupby('hour')['error'].mean()\n",
    "# print(error_by_hour)\n",
    "\n",
    "# Identify high-error cases\n",
    "high_error_cases = error_df[np.abs(error_df['error']) > np.percentile(np.abs(error_df['error']), 90)]\n",
    "high_error_cases"
   ]
  },
  {
   "cell_type": "code",
   "execution_count": null,
   "id": "c0bc902d",
   "metadata": {},
   "outputs": [
    {
     "name": "stdout",
     "output_type": "stream",
     "text": [
      "Number of validation points with lat_long above 90th percentile: 732\n",
      "         lat_long     actual   predicted       error\n",
      "5771  2221.394727  15.400000  188.608265 -175.374292\n",
      "1863  2172.284634  20.700000  171.058542 -153.472402\n",
      "3077  1447.469220   6.696193   67.877146  -77.593362\n",
      "6052  2291.216829  72.500000  137.453436  -64.235643\n",
      "2190  2139.179378  71.300000  122.953281  -55.847213\n",
      "7226  2228.759264  16.400000   75.684246  -52.855195\n",
      "7     3140.925876  16.500000   64.003793  -52.797402\n",
      "1258  1368.088715  21.000000   65.630522  -52.536029\n",
      "5905  2209.961864  48.200000   92.766534  -49.891960\n",
      "598   2195.288220  96.500000  147.765058  -48.860952\n"
     ]
    }
   ],
   "source": [
    "# Analyze errors and compare with actual target for high lat_long values\n",
    "\n",
    "# Find the 90th percentile value for lat_long\n",
    "lat_long_90 = np.percentile(df_clean['lat_long'], 90)\n",
    "\n",
    "# Filter validation data with lat_long above the 90th percentile\n",
    "high_lat_long_valid = X_valid.copy()\n",
    "high_lat_long_valid['error'] = errors\n",
    "high_lat_long_valid['actual'] = y_valid\n",
    "high_lat_long_valid['predicted'] = y_pred\n",
    "\n",
    "high_lat_long_valid = high_lat_long_valid[high_lat_long_valid['lat_long'] > lat_long_90]\n",
    "\n",
    "print(f\"Number of validation points with lat_long above 90th percentile: {high_lat_long_valid.shape[0]}\")\n",
    "print(high_lat_long_valid[['lat_long', 'actual', 'predicted', 'error']].sort_values(by='error', ascending=False).head(10))"
   ]
  },
  {
   "cell_type": "code",
   "execution_count": 87,
   "id": "0ecc0584",
   "metadata": {},
   "outputs": [
    {
     "name": "stdout",
     "output_type": "stream",
     "text": [
      "Number of data points with dist_center above 90th percentile: 765\n"
     ]
    },
    {
     "data": {
      "application/vnd.microsoft.datawrangler.viewer.v0+json": {
       "columns": [
        {
         "name": "index",
         "rawType": "int64",
         "type": "integer"
        },
        {
         "name": "id",
         "rawType": "int64",
         "type": "integer"
        },
        {
         "name": "latitude",
         "rawType": "float64",
         "type": "float"
        },
        {
         "name": "longitude",
         "rawType": "float64",
         "type": "float"
        },
        {
         "name": "day_of_year",
         "rawType": "int64",
         "type": "integer"
        },
        {
         "name": "pollution_value",
         "rawType": "float64",
         "type": "float"
        },
        {
         "name": "hour_sin",
         "rawType": "float64",
         "type": "float"
        },
        {
         "name": "hour_cos",
         "rawType": "float64",
         "type": "float"
        },
        {
         "name": "month_sin",
         "rawType": "float64",
         "type": "float"
        },
        {
         "name": "month_cos",
         "rawType": "float64",
         "type": "float"
        },
        {
         "name": "day_of_week_sin",
         "rawType": "float64",
         "type": "float"
        },
        {
         "name": "day_of_week_cos",
         "rawType": "float64",
         "type": "float"
        },
        {
         "name": "lat_long",
         "rawType": "float64",
         "type": "float"
        },
        {
         "name": "dist_center",
         "rawType": "float64",
         "type": "float"
        }
       ],
       "ref": "697627d2-0178-4469-a2e4-c7c4daeb630d",
       "rows": [
        [
         "1",
         "1",
         "39.386",
         "-121.158",
         "254",
         "34.5",
         "-0.7071067811865477",
         "0.7071067811865474",
         "-1.0",
         "-1.8369701987210297e-16",
         "0.43388373911755823",
         "-0.900968867902419",
         "-4771.928988000001",
         "153.5181515981001"
        ],
        [
         "3",
         "3",
         "35.299",
         "-120.613",
         "145",
         "15.5",
         "-0.4999999999999997",
         "-0.8660254037844388",
         "0.49999999999999994",
         "-0.8660254037844387",
         "0.9749279121818236",
         "-0.22252093395631434",
         "-4257.518287",
         "152.82796699117864"
        ],
        [
         "17",
         "17",
         "47.482",
         "-120.518",
         "151",
         "6.3",
         "0.49999999999999994",
         "0.8660254037844387",
         "0.49999999999999994",
         "-0.8660254037844387",
         "0.9749279121818236",
         "-0.22252093395631434",
         "-5722.435676",
         "153.48922136521"
        ],
        [
         "62",
         "62",
         "37.609",
         "-118.991",
         "150",
         "9.5",
         "-0.25881904510252157",
         "0.9659258262890681",
         "0.49999999999999994",
         "-0.8660254037844387",
         "0.7818314824680298",
         "0.6234898018587336",
         "-4475.132519",
         "151.27613805188693"
        ],
        [
         "63",
         "63",
         "46.596",
         "-120.49",
         "151",
         "4.5",
         "0.49999999999999994",
         "0.8660254037844387",
         "0.49999999999999994",
         "-0.8660254037844387",
         "0.9749279121818236",
         "-0.22252093395631434",
         "-5614.35204",
         "153.3738592619797"
        ]
       ],
       "shape": {
        "columns": 13,
        "rows": 5
       }
      },
      "text/html": [
       "<div>\n",
       "<style scoped>\n",
       "    .dataframe tbody tr th:only-of-type {\n",
       "        vertical-align: middle;\n",
       "    }\n",
       "\n",
       "    .dataframe tbody tr th {\n",
       "        vertical-align: top;\n",
       "    }\n",
       "\n",
       "    .dataframe thead th {\n",
       "        text-align: right;\n",
       "    }\n",
       "</style>\n",
       "<table border=\"1\" class=\"dataframe\">\n",
       "  <thead>\n",
       "    <tr style=\"text-align: right;\">\n",
       "      <th></th>\n",
       "      <th>id</th>\n",
       "      <th>latitude</th>\n",
       "      <th>longitude</th>\n",
       "      <th>day_of_year</th>\n",
       "      <th>pollution_value</th>\n",
       "      <th>hour_sin</th>\n",
       "      <th>hour_cos</th>\n",
       "      <th>month_sin</th>\n",
       "      <th>month_cos</th>\n",
       "      <th>day_of_week_sin</th>\n",
       "      <th>day_of_week_cos</th>\n",
       "      <th>lat_long</th>\n",
       "      <th>dist_center</th>\n",
       "    </tr>\n",
       "  </thead>\n",
       "  <tbody>\n",
       "    <tr>\n",
       "      <th>1</th>\n",
       "      <td>1</td>\n",
       "      <td>39.386</td>\n",
       "      <td>-121.158</td>\n",
       "      <td>254</td>\n",
       "      <td>34.5</td>\n",
       "      <td>-0.707107</td>\n",
       "      <td>0.707107</td>\n",
       "      <td>-1.0</td>\n",
       "      <td>-1.836970e-16</td>\n",
       "      <td>0.433884</td>\n",
       "      <td>-0.900969</td>\n",
       "      <td>-4771.928988</td>\n",
       "      <td>153.518152</td>\n",
       "    </tr>\n",
       "    <tr>\n",
       "      <th>3</th>\n",
       "      <td>3</td>\n",
       "      <td>35.299</td>\n",
       "      <td>-120.613</td>\n",
       "      <td>145</td>\n",
       "      <td>15.5</td>\n",
       "      <td>-0.500000</td>\n",
       "      <td>-0.866025</td>\n",
       "      <td>0.5</td>\n",
       "      <td>-8.660254e-01</td>\n",
       "      <td>0.974928</td>\n",
       "      <td>-0.222521</td>\n",
       "      <td>-4257.518287</td>\n",
       "      <td>152.827967</td>\n",
       "    </tr>\n",
       "    <tr>\n",
       "      <th>17</th>\n",
       "      <td>17</td>\n",
       "      <td>47.482</td>\n",
       "      <td>-120.518</td>\n",
       "      <td>151</td>\n",
       "      <td>6.3</td>\n",
       "      <td>0.500000</td>\n",
       "      <td>0.866025</td>\n",
       "      <td>0.5</td>\n",
       "      <td>-8.660254e-01</td>\n",
       "      <td>0.974928</td>\n",
       "      <td>-0.222521</td>\n",
       "      <td>-5722.435676</td>\n",
       "      <td>153.489221</td>\n",
       "    </tr>\n",
       "    <tr>\n",
       "      <th>62</th>\n",
       "      <td>62</td>\n",
       "      <td>37.609</td>\n",
       "      <td>-118.991</td>\n",
       "      <td>150</td>\n",
       "      <td>9.5</td>\n",
       "      <td>-0.258819</td>\n",
       "      <td>0.965926</td>\n",
       "      <td>0.5</td>\n",
       "      <td>-8.660254e-01</td>\n",
       "      <td>0.781831</td>\n",
       "      <td>0.623490</td>\n",
       "      <td>-4475.132519</td>\n",
       "      <td>151.276138</td>\n",
       "    </tr>\n",
       "    <tr>\n",
       "      <th>63</th>\n",
       "      <td>63</td>\n",
       "      <td>46.596</td>\n",
       "      <td>-120.490</td>\n",
       "      <td>151</td>\n",
       "      <td>4.5</td>\n",
       "      <td>0.500000</td>\n",
       "      <td>0.866025</td>\n",
       "      <td>0.5</td>\n",
       "      <td>-8.660254e-01</td>\n",
       "      <td>0.974928</td>\n",
       "      <td>-0.222521</td>\n",
       "      <td>-5614.352040</td>\n",
       "      <td>153.373859</td>\n",
       "    </tr>\n",
       "  </tbody>\n",
       "</table>\n",
       "</div>"
      ],
      "text/plain": [
       "    id  latitude  longitude  day_of_year  pollution_value  hour_sin  hour_cos  \\\n",
       "1    1    39.386   -121.158          254             34.5 -0.707107  0.707107   \n",
       "3    3    35.299   -120.613          145             15.5 -0.500000 -0.866025   \n",
       "17  17    47.482   -120.518          151              6.3  0.500000  0.866025   \n",
       "62  62    37.609   -118.991          150              9.5 -0.258819  0.965926   \n",
       "63  63    46.596   -120.490          151              4.5  0.500000  0.866025   \n",
       "\n",
       "    month_sin     month_cos  day_of_week_sin  day_of_week_cos     lat_long  \\\n",
       "1        -1.0 -1.836970e-16         0.433884        -0.900969 -4771.928988   \n",
       "3         0.5 -8.660254e-01         0.974928        -0.222521 -4257.518287   \n",
       "17        0.5 -8.660254e-01         0.974928        -0.222521 -5722.435676   \n",
       "62        0.5 -8.660254e-01         0.781831         0.623490 -4475.132519   \n",
       "63        0.5 -8.660254e-01         0.974928        -0.222521 -5614.352040   \n",
       "\n",
       "    dist_center  \n",
       "1    153.518152  \n",
       "3    152.827967  \n",
       "17   153.489221  \n",
       "62   151.276138  \n",
       "63   153.373859  "
      ]
     },
     "execution_count": 87,
     "metadata": {},
     "output_type": "execute_result"
    }
   ],
   "source": [
    "# Find the 90th percentile value for dist_center\n",
    "dist_center_90 = np.percentile(df_clean['dist_center'], 90)\n",
    "\n",
    "# Filter data with dist_center above the 90th percentile\n",
    "high_dist_center_df = df_clean[df_clean['dist_center'] > dist_center_90]\n",
    "\n",
    "print(f\"Number of data points with dist_center above 90th percentile: {high_dist_center_df.shape[0]}\")\n",
    "high_dist_center_df.head()"
   ]
  },
  {
   "cell_type": "code",
   "execution_count": 95,
   "id": "e8a1830e",
   "metadata": {},
   "outputs": [
    {
     "name": "stdout",
     "output_type": "stream",
     "text": [
      "Correlation of features with error:\n",
      "error              1.000000\n",
      "actual             0.887962\n",
      "dist_center        0.053619\n",
      "month_cos          0.050200\n",
      "hour_cos           0.044639\n",
      "day_of_year        0.017264\n",
      "month_sin          0.014617\n",
      "hour_sin           0.008407\n",
      "latitude           0.000662\n",
      "lat_long          -0.010771\n",
      "day_of_week_cos   -0.012056\n",
      "longitude         -0.039890\n",
      "day_of_week_sin   -0.044880\n",
      "Name: error, dtype: float64\n"
     ]
    }
   ],
   "source": [
    "# Calculate correlation of all columns with error\n",
    "\n",
    "error_df = X_valid.copy()\n",
    "error_df['error'] = errors\n",
    "\n",
    "# If you want to include the actual target value:\n",
    "error_df['actual'] = y_valid\n",
    "\n",
    "# Compute correlation of each column with error\n",
    "correlations = error_df.corr(numeric_only=True)['error'].sort_values(ascending=False)\n",
    "\n",
    "print(\"Correlation of features with error:\")\n",
    "print(correlations)"
   ]
  },
  {
   "cell_type": "markdown",
   "id": "87208451",
   "metadata": {},
   "source": [
    "# Predict on Test"
   ]
  },
  {
   "cell_type": "code",
   "execution_count": 82,
   "id": "2da14928",
   "metadata": {},
   "outputs": [
    {
     "data": {
      "application/vnd.microsoft.datawrangler.viewer.v0+json": {
       "columns": [
        {
         "name": "index",
         "rawType": "int64",
         "type": "integer"
        },
        {
         "name": "id",
         "rawType": "int64",
         "type": "integer"
        },
        {
         "name": "latitude",
         "rawType": "float64",
         "type": "float"
        },
        {
         "name": "longitude",
         "rawType": "float64",
         "type": "float"
        },
        {
         "name": "day_of_year",
         "rawType": "int64",
         "type": "integer"
        },
        {
         "name": "day_of_week",
         "rawType": "int64",
         "type": "integer"
        },
        {
         "name": "hour",
         "rawType": "int64",
         "type": "integer"
        },
        {
         "name": "month",
         "rawType": "int64",
         "type": "integer"
        }
       ],
       "ref": "a68313a6-e2d7-431f-8b45-ba40a0780d96",
       "rows": [
        [
         "0",
         "0",
         "-42.343",
         "147.372",
         "31",
         "4",
         "15",
         "1"
        ],
        [
         "1",
         "1",
         "37.053",
         "127.406",
         "28",
         "1",
         "12",
         "1"
        ],
        [
         "2",
         "2",
         "49.105",
         "-123.189",
         "14",
         "1",
         "2",
         "1"
        ],
        [
         "3",
         "3",
         "42.014",
         "12.774",
         "10",
         "4",
         "3",
         "1"
        ],
        [
         "4",
         "4",
         "47.778",
         "13.002",
         "31",
         "4",
         "11",
         "1"
        ]
       ],
       "shape": {
        "columns": 7,
        "rows": 5
       }
      },
      "text/html": [
       "<div>\n",
       "<style scoped>\n",
       "    .dataframe tbody tr th:only-of-type {\n",
       "        vertical-align: middle;\n",
       "    }\n",
       "\n",
       "    .dataframe tbody tr th {\n",
       "        vertical-align: top;\n",
       "    }\n",
       "\n",
       "    .dataframe thead th {\n",
       "        text-align: right;\n",
       "    }\n",
       "</style>\n",
       "<table border=\"1\" class=\"dataframe\">\n",
       "  <thead>\n",
       "    <tr style=\"text-align: right;\">\n",
       "      <th></th>\n",
       "      <th>id</th>\n",
       "      <th>latitude</th>\n",
       "      <th>longitude</th>\n",
       "      <th>day_of_year</th>\n",
       "      <th>day_of_week</th>\n",
       "      <th>hour</th>\n",
       "      <th>month</th>\n",
       "    </tr>\n",
       "  </thead>\n",
       "  <tbody>\n",
       "    <tr>\n",
       "      <th>0</th>\n",
       "      <td>0</td>\n",
       "      <td>-42.343</td>\n",
       "      <td>147.372</td>\n",
       "      <td>31</td>\n",
       "      <td>4</td>\n",
       "      <td>15</td>\n",
       "      <td>1</td>\n",
       "    </tr>\n",
       "    <tr>\n",
       "      <th>1</th>\n",
       "      <td>1</td>\n",
       "      <td>37.053</td>\n",
       "      <td>127.406</td>\n",
       "      <td>28</td>\n",
       "      <td>1</td>\n",
       "      <td>12</td>\n",
       "      <td>1</td>\n",
       "    </tr>\n",
       "    <tr>\n",
       "      <th>2</th>\n",
       "      <td>2</td>\n",
       "      <td>49.105</td>\n",
       "      <td>-123.189</td>\n",
       "      <td>14</td>\n",
       "      <td>1</td>\n",
       "      <td>2</td>\n",
       "      <td>1</td>\n",
       "    </tr>\n",
       "    <tr>\n",
       "      <th>3</th>\n",
       "      <td>3</td>\n",
       "      <td>42.014</td>\n",
       "      <td>12.774</td>\n",
       "      <td>10</td>\n",
       "      <td>4</td>\n",
       "      <td>3</td>\n",
       "      <td>1</td>\n",
       "    </tr>\n",
       "    <tr>\n",
       "      <th>4</th>\n",
       "      <td>4</td>\n",
       "      <td>47.778</td>\n",
       "      <td>13.002</td>\n",
       "      <td>31</td>\n",
       "      <td>4</td>\n",
       "      <td>11</td>\n",
       "      <td>1</td>\n",
       "    </tr>\n",
       "  </tbody>\n",
       "</table>\n",
       "</div>"
      ],
      "text/plain": [
       "   id  latitude  longitude  day_of_year  day_of_week  hour  month\n",
       "0   0   -42.343    147.372           31            4    15      1\n",
       "1   1    37.053    127.406           28            1    12      1\n",
       "2   2    49.105   -123.189           14            1     2      1\n",
       "3   3    42.014     12.774           10            4     3      1\n",
       "4   4    47.778     13.002           31            4    11      1"
      ]
     },
     "execution_count": 82,
     "metadata": {},
     "output_type": "execute_result"
    }
   ],
   "source": [
    "df_test = pd.read_csv('./data/test.csv')\n",
    "df_test.head()"
   ]
  },
  {
   "cell_type": "code",
   "execution_count": 83,
   "id": "acfc5215",
   "metadata": {},
   "outputs": [
    {
     "name": "stdout",
     "output_type": "stream",
     "text": [
      "<class 'pandas.core.frame.DataFrame'>\n",
      "RangeIndex: 2739 entries, 0 to 2738\n",
      "Data columns (total 7 columns):\n",
      " #   Column       Non-Null Count  Dtype  \n",
      "---  ------       --------------  -----  \n",
      " 0   id           2739 non-null   int64  \n",
      " 1   latitude     2739 non-null   float64\n",
      " 2   longitude    2739 non-null   float64\n",
      " 3   day_of_year  2739 non-null   int64  \n",
      " 4   day_of_week  2739 non-null   int64  \n",
      " 5   hour         2739 non-null   int64  \n",
      " 6   month        2739 non-null   int64  \n",
      "dtypes: float64(2), int64(5)\n",
      "memory usage: 149.9 KB\n"
     ]
    }
   ],
   "source": [
    "df_test.info()"
   ]
  },
  {
   "cell_type": "code",
   "execution_count": 84,
   "id": "5c8c455a",
   "metadata": {},
   "outputs": [],
   "source": [
    "# Feature Engineering for df_test (same as train)\n",
    "\n",
    "# Cyclical encoding for time features\n",
    "df_test['hour_sin'] = np.sin(2 * np.pi * df_test['hour'] / 24)\n",
    "df_test['hour_cos'] = np.cos(2 * np.pi * df_test['hour'] / 24)\n",
    "df_test['month_sin'] = np.sin(2 * np.pi * df_test['month'] / 12)\n",
    "df_test['month_cos'] = np.cos(2 * np.pi * df_test['month'] / 12)\n",
    "df_test['day_of_week_sin'] = np.sin(2 * np.pi * df_test['day_of_week'] / 7)\n",
    "df_test['day_of_week_cos'] = np.cos(2 * np.pi * df_test['day_of_week'] / 7)\n",
    "\n",
    "# Interaction features\n",
    "df_test['lat_long'] = df_test['latitude'] * df_test['longitude']\n",
    "\n",
    "# Distance from reference point (mean latitude/longitude from train)\n",
    "df_test['dist_center'] = np.sqrt((df_test['latitude'] - ref_lat)**2 + (df_test['longitude'] - ref_long)**2)"
   ]
  },
  {
   "cell_type": "code",
   "execution_count": 85,
   "id": "26211f64",
   "metadata": {},
   "outputs": [],
   "source": [
    "df_test['country'] = gdf_with_country['NAME']"
   ]
  },
  {
   "cell_type": "code",
   "execution_count": 86,
   "id": "da6e7ab6",
   "metadata": {},
   "outputs": [],
   "source": [
    "# # 1. Add squared and interaction terms\n",
    "# df_test['latitude_squared'] = df_test['latitude'] ** 2\n",
    "# df_test['longitude_squared'] = df_test['longitude'] ** 2\n",
    "# df_test['lat_long_interaction'] = df_test['latitude'] * df_test['longitude']\n",
    "\n",
    "# # 2. Add rolling/statistical features (if you have time series data)\n",
    "# # Example: rolling mean pollution value by location (requires pollution_value column)\n",
    "# # df_test['rolling_mean_pollution'] = df_test.groupby(['latitude', 'longitude'])['pollution_value'].transform(lambda x: x.rolling(window=3, min_periods=1).mean())\n",
    "\n",
    "# # 3. Add categorical bins for latitude/longitude\n",
    "# df_test['lat_bin'] = pd.cut(df_test['latitude'], bins=5, labels=False)\n",
    "# df_test['long_bin'] = pd.cut(df_test['longitude'], bins=5, labels=False)"
   ]
  },
  {
   "cell_type": "code",
   "execution_count": 87,
   "id": "cddf4301",
   "metadata": {},
   "outputs": [],
   "source": [
    "# df_test['season'] = df_test['month'].apply(get_season_num)"
   ]
  },
  {
   "cell_type": "code",
   "execution_count": 120,
   "id": "f412565f",
   "metadata": {},
   "outputs": [
    {
     "data": {
      "application/vnd.microsoft.datawrangler.viewer.v0+json": {
       "columns": [
        {
         "name": "index",
         "rawType": "int64",
         "type": "integer"
        },
        {
         "name": "ID",
         "rawType": "int64",
         "type": "integer"
        },
        {
         "name": "Target",
         "rawType": "float64",
         "type": "float"
        }
       ],
       "ref": "8bc2ec49-33ab-42a6-acbd-57bc14957a41",
       "rows": [
        [
         "0",
         "0",
         "28.684676101532187"
        ],
        [
         "1",
         "1",
         "32.494906396553354"
        ],
        [
         "2",
         "2",
         "12.678736428916881"
        ],
        [
         "3",
         "3",
         "34.70704532207821"
        ],
        [
         "4",
         "4",
         "20.740303168893362"
        ]
       ],
       "shape": {
        "columns": 2,
        "rows": 5
       }
      },
      "text/html": [
       "<div>\n",
       "<style scoped>\n",
       "    .dataframe tbody tr th:only-of-type {\n",
       "        vertical-align: middle;\n",
       "    }\n",
       "\n",
       "    .dataframe tbody tr th {\n",
       "        vertical-align: top;\n",
       "    }\n",
       "\n",
       "    .dataframe thead th {\n",
       "        text-align: right;\n",
       "    }\n",
       "</style>\n",
       "<table border=\"1\" class=\"dataframe\">\n",
       "  <thead>\n",
       "    <tr style=\"text-align: right;\">\n",
       "      <th></th>\n",
       "      <th>ID</th>\n",
       "      <th>Target</th>\n",
       "    </tr>\n",
       "  </thead>\n",
       "  <tbody>\n",
       "    <tr>\n",
       "      <th>0</th>\n",
       "      <td>0</td>\n",
       "      <td>28.684676</td>\n",
       "    </tr>\n",
       "    <tr>\n",
       "      <th>1</th>\n",
       "      <td>1</td>\n",
       "      <td>32.494906</td>\n",
       "    </tr>\n",
       "    <tr>\n",
       "      <th>2</th>\n",
       "      <td>2</td>\n",
       "      <td>12.678736</td>\n",
       "    </tr>\n",
       "    <tr>\n",
       "      <th>3</th>\n",
       "      <td>3</td>\n",
       "      <td>34.707045</td>\n",
       "    </tr>\n",
       "    <tr>\n",
       "      <th>4</th>\n",
       "      <td>4</td>\n",
       "      <td>20.740303</td>\n",
       "    </tr>\n",
       "  </tbody>\n",
       "</table>\n",
       "</div>"
      ],
      "text/plain": [
       "   ID     Target\n",
       "0   0  28.684676\n",
       "1   1  32.494906\n",
       "2   2  12.678736\n",
       "3   3  34.707045\n",
       "4   4  20.740303"
      ]
     },
     "execution_count": 120,
     "metadata": {},
     "output_type": "execute_result"
    }
   ],
   "source": [
    "X_test = df_test.drop(columns=[\"id\"], axis=1)\n",
    "model_2 = data_pipeline # Replace with your trained model\n",
    "\n",
    "test_pred = model_2.predict(X_test)\n",
    "\n",
    "output_result = pd.DataFrame({\n",
    "    \"ID\":df_test[\"id\"],\n",
    "    \"Target\":test_pred\n",
    "})\n",
    "output_result.head()"
   ]
  },
  {
   "cell_type": "markdown",
   "id": "67695db6",
   "metadata": {},
   "source": [
    "\"month_cos\", \"day_of_week_cos\", \n",
    "                        \"hour_cos\", \"hour_sin\", \"hour\", \n",
    "                        \"day_of_week\", \"day_of_week_sin\", \n",
    "                        \"month\", \"month_sin\""
   ]
  },
  {
   "cell_type": "code",
   "execution_count": 121,
   "id": "a43656b0",
   "metadata": {},
   "outputs": [],
   "source": [
    "output_result.to_csv('./data/output_resul_14.csv', index=False)"
   ]
  },
  {
   "cell_type": "code",
   "execution_count": null,
   "id": "69ac0870",
   "metadata": {},
   "outputs": [],
   "source": []
  }
 ],
 "metadata": {
  "kernelspec": {
   "display_name": "Python 3",
   "language": "python",
   "name": "python3"
  },
  "language_info": {
   "codemirror_mode": {
    "name": "ipython",
    "version": 3
   },
   "file_extension": ".py",
   "mimetype": "text/x-python",
   "name": "python",
   "nbconvert_exporter": "python",
   "pygments_lexer": "ipython3",
   "version": "3.12.2"
  }
 },
 "nbformat": 4,
 "nbformat_minor": 5
}
